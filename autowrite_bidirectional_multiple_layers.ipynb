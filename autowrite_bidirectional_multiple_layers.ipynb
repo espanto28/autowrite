{
  "nbformat": 4,
  "nbformat_minor": 0,
  "metadata": {
    "environment": {
      "name": "tf2-2-3-gpu.2-3.m59",
      "type": "gcloud",
      "uri": "gcr.io/deeplearning-platform-release/tf2-2-3-gpu.2-3:m59"
    },
    "kernelspec": {
      "display_name": "Python 3",
      "language": "python",
      "name": "python3"
    },
    "language_info": {
      "codemirror_mode": {
        "name": "ipython",
        "version": 3
      },
      "file_extension": ".py",
      "mimetype": "text/x-python",
      "name": "python",
      "nbconvert_exporter": "python",
      "pygments_lexer": "ipython3",
      "version": "3.7.8"
    },
    "colab": {
      "name": "autowrite_bidirectional_multiple_layers.ipynb",
      "provenance": [],
      "collapsed_sections": [],
      "toc_visible": true
    },
    "accelerator": "GPU"
  },
  "cells": [
    {
      "cell_type": "markdown",
      "metadata": {
        "id": "OgYY3Nb6iAAc"
      },
      "source": [
        "# Bidirectional approach"
      ]
    },
    {
      "cell_type": "code",
      "metadata": {
        "id": "mJ_wISHhiAAe"
      },
      "source": [
        "#import libraries\n",
        "import tensorflow as tf\n",
        "\n",
        "from tensorflow.keras.preprocessing.sequence import pad_sequences\n",
        "from tensorflow.keras.layers import Embedding, LSTM, Dense, Bidirectional\n",
        "from tensorflow.keras.preprocessing.text import Tokenizer\n",
        "from tensorflow.keras.models import Sequential\n",
        "from tensorflow.keras.optimizers import Adam\n",
        "from tensorflow.keras.utils import plot_model\n",
        "import numpy as np "
      ],
      "execution_count": 16,
      "outputs": []
    },
    {
      "cell_type": "code",
      "metadata": {
        "id": "PKrp4LILiAAe"
      },
      "source": [
        "path_to_file = \"8_ways_data_science_can_help.txt\" #Enter article name here"
      ],
      "execution_count": 2,
      "outputs": []
    },
    {
      "cell_type": "code",
      "metadata": {
        "id": "9NYh3gYFiAAf"
      },
      "source": [
        "tokenizer = Tokenizer()"
      ],
      "execution_count": 3,
      "outputs": []
    },
    {
      "cell_type": "code",
      "metadata": {
        "colab": {
          "base_uri": "https://localhost:8080/"
        },
        "id": "jcty61friAAf",
        "outputId": "52830bc4-337e-4a92-e3c5-ccc31127138b"
      },
      "source": [
        "text = open(path_to_file,'rb').read().decode(encoding='utf-8')\n",
        "print(f'The length of the article is {len(text)}')"
      ],
      "execution_count": 4,
      "outputs": [
        {
          "output_type": "stream",
          "text": [
            "The length of the article is 6999\n"
          ],
          "name": "stdout"
        }
      ]
    },
    {
      "cell_type": "code",
      "metadata": {
        "id": "TsgOXOAQiAAf"
      },
      "source": [
        "data = text.lower().replace('\\xa0\\xa0','')"
      ],
      "execution_count": 5,
      "outputs": []
    },
    {
      "cell_type": "code",
      "metadata": {
        "id": "SBOMSvyviAAg"
      },
      "source": [
        "data = text.lower().replace('\\xa0','')\n",
        "data = data.split(\".\")\n",
        "#data"
      ],
      "execution_count": 6,
      "outputs": []
    },
    {
      "cell_type": "code",
      "metadata": {
        "id": "FFjUTyZfiAAg"
      },
      "source": [
        "tokenizer.fit_on_texts(data)\n",
        "total_words = len(tokenizer.word_index) + 1\n",
        "\n",
        "#print(tokenizer.word_index)\n",
        "#print(total_words)"
      ],
      "execution_count": 7,
      "outputs": []
    },
    {
      "cell_type": "code",
      "metadata": {
        "colab": {
          "base_uri": "https://localhost:8080/"
        },
        "id": "gGq7_5yViAAg",
        "outputId": "e9b76d49-dbef-4121-c0d1-e8b492ba842e"
      },
      "source": [
        "print(total_words)"
      ],
      "execution_count": 8,
      "outputs": [
        {
          "output_type": "stream",
          "text": [
            "525\n"
          ],
          "name": "stdout"
        }
      ]
    },
    {
      "cell_type": "code",
      "metadata": {
        "id": "fl0jWcBfiAAh"
      },
      "source": [
        "input_sequences = []\n",
        "for line in data:\n",
        "    token_list = tokenizer.texts_to_sequences([line])[0]\n",
        "    for i in range(1, len(token_list)):\n",
        "        #print(i)\n",
        "        n_gram_sequence = token_list[:i+1]\n",
        "        #print(\"N_gram: \"+ n_gram_sequence)\n",
        "        input_sequences.append(n_gram_sequence)\n",
        "#print(input_sequences)\n",
        "# pad sequences \n",
        "max_sequence_len = max([len(x) for x in input_sequences])\n",
        "input_sequences = np.array(pad_sequences(input_sequences, maxlen=max_sequence_len, padding='pre'))\n",
        "\n",
        "# create predictors and label\n",
        "xs, labels = input_sequences[:,:-1],input_sequences[:,-1]\n",
        "\n",
        "ys = tf.keras.utils.to_categorical(labels, num_classes=total_words)"
      ],
      "execution_count": 9,
      "outputs": []
    },
    {
      "cell_type": "code",
      "metadata": {
        "id": "ZO8HnRu6VEzu"
      },
      "source": [
        "class myCallback(tf.keras.callbacks.Callback):\n",
        "    def on_epoch_end(self, epoch, logs={}):\n",
        "        if(logs.get('accuracy')>0.9901):\n",
        "            print(\"\\nReached acceptable accuary!\")\n",
        "            self.model.stop_training = True"
      ],
      "execution_count": 40,
      "outputs": []
    },
    {
      "cell_type": "code",
      "metadata": {
        "id": "NHbg9AnmXEvF"
      },
      "source": [
        "callback = myCallback()"
      ],
      "execution_count": 41,
      "outputs": []
    },
    {
      "cell_type": "code",
      "metadata": {
        "id": "9rjeFxtBSjL1"
      },
      "source": [
        "model = Sequential([\n",
        "      Embedding(total_words,128,input_length=max_sequence_len - 1),\n",
        "      Bidirectional(LSTM(128)),\n",
        "      Dense(total_words,activation='softmax')\n",
        "])"
      ],
      "execution_count": 42,
      "outputs": []
    },
    {
      "cell_type": "code",
      "metadata": {
        "colab": {
          "base_uri": "https://localhost:8080/",
          "height": 422
        },
        "id": "TVr5sMmIWmSy",
        "outputId": "861fd9df-2b4d-451a-80a5-be0c2d7c9cd5"
      },
      "source": [
        "plot_model(model,\"nlp.png\",show_shapes=True)"
      ],
      "execution_count": 43,
      "outputs": [
        {
          "output_type": "execute_result",
          "data": {
            "image/png": "[encoded data removed]",
            "text/plain": [
              "<IPython.core.display.Image object>"
            ]
          },
          "metadata": {
            "tags": []
          },
          "execution_count": 43
        }
      ]
    },
    {
      "cell_type": "code",
      "metadata": {
        "id": "495CWbvqWZ25"
      },
      "source": [
        "model.compile(loss='categorical_crossentropy',optimizer='adam',metrics=['accuracy'])"
      ],
      "execution_count": 44,
      "outputs": []
    },
    {
      "cell_type": "code",
      "metadata": {
        "colab": {
          "base_uri": "https://localhost:8080/"
        },
        "id": "fa9qUHSLW8vg",
        "outputId": "83bc52cc-fd95-4540-a3d2-f554cdedbe1a"
      },
      "source": [
        "history = model.fit(xs,ys,epochs=1000,verbose=1,callbacks=[callback])"
      ],
      "execution_count": 45,
      "outputs": [
        {
          "output_type": "stream",
          "text": [
            "Epoch 1/1000\n",
            "33/33 [==============================] - 3s 16ms/step - loss: 6.2061 - accuracy: 0.0138\n",
            "Epoch 2/1000\n",
            "33/33 [==============================] - 0s 12ms/step - loss: 5.7772 - accuracy: 0.0295\n",
            "Epoch 3/1000\n",
            "33/33 [==============================] - 0s 12ms/step - loss: 5.6411 - accuracy: 0.0446\n",
            "Epoch 4/1000\n",
            "33/33 [==============================] - 0s 12ms/step - loss: 5.5983 - accuracy: 0.0412\n",
            "Epoch 5/1000\n",
            "33/33 [==============================] - 0s 12ms/step - loss: 5.4619 - accuracy: 0.0487\n",
            "Epoch 6/1000\n",
            "33/33 [==============================] - 0s 12ms/step - loss: 5.3415 - accuracy: 0.0450\n",
            "Epoch 7/1000\n",
            "33/33 [==============================] - 0s 12ms/step - loss: 5.2270 - accuracy: 0.0628\n",
            "Epoch 8/1000\n",
            "33/33 [==============================] - 0s 12ms/step - loss: 5.0553 - accuracy: 0.0554\n",
            "Epoch 9/1000\n",
            "33/33 [==============================] - 0s 12ms/step - loss: 4.7876 - accuracy: 0.0798\n",
            "Epoch 10/1000\n",
            "33/33 [==============================] - 0s 12ms/step - loss: 4.5221 - accuracy: 0.0932\n",
            "Epoch 11/1000\n",
            "33/33 [==============================] - 0s 12ms/step - loss: 4.2775 - accuracy: 0.1299\n",
            "Epoch 12/1000\n",
            "33/33 [==============================] - 0s 12ms/step - loss: 3.9861 - accuracy: 0.1497\n",
            "Epoch 13/1000\n",
            "33/33 [==============================] - 0s 13ms/step - loss: 3.7190 - accuracy: 0.1790\n",
            "Epoch 14/1000\n",
            "33/33 [==============================] - 0s 12ms/step - loss: 3.5206 - accuracy: 0.1974\n",
            "Epoch 15/1000\n",
            "33/33 [==============================] - 0s 12ms/step - loss: 3.2478 - accuracy: 0.2469\n",
            "Epoch 16/1000\n",
            "33/33 [==============================] - 0s 12ms/step - loss: 3.0088 - accuracy: 0.3000\n",
            "Epoch 17/1000\n",
            "33/33 [==============================] - 0s 12ms/step - loss: 2.7998 - accuracy: 0.3682\n",
            "Epoch 18/1000\n",
            "33/33 [==============================] - 0s 12ms/step - loss: 2.6269 - accuracy: 0.4071\n",
            "Epoch 19/1000\n",
            "33/33 [==============================] - 0s 11ms/step - loss: 2.4545 - accuracy: 0.4742\n",
            "Epoch 20/1000\n",
            "33/33 [==============================] - 0s 12ms/step - loss: 2.2858 - accuracy: 0.5202\n",
            "Epoch 21/1000\n",
            "33/33 [==============================] - 0s 12ms/step - loss: 2.1290 - accuracy: 0.5284\n",
            "Epoch 22/1000\n",
            "33/33 [==============================] - 0s 12ms/step - loss: 1.9847 - accuracy: 0.5725\n",
            "Epoch 23/1000\n",
            "33/33 [==============================] - 0s 12ms/step - loss: 1.8328 - accuracy: 0.6404\n",
            "Epoch 24/1000\n",
            "33/33 [==============================] - 0s 12ms/step - loss: 1.7558 - accuracy: 0.6866\n",
            "Epoch 25/1000\n",
            "33/33 [==============================] - 0s 12ms/step - loss: 1.5983 - accuracy: 0.7287\n",
            "Epoch 26/1000\n",
            "33/33 [==============================] - 0s 12ms/step - loss: 1.5065 - accuracy: 0.7613\n",
            "Epoch 27/1000\n",
            "33/33 [==============================] - 0s 12ms/step - loss: 1.4002 - accuracy: 0.7882\n",
            "Epoch 28/1000\n",
            "33/33 [==============================] - 0s 12ms/step - loss: 1.3276 - accuracy: 0.8223\n",
            "Epoch 29/1000\n",
            "33/33 [==============================] - 0s 12ms/step - loss: 1.2229 - accuracy: 0.8524\n",
            "Epoch 30/1000\n",
            "33/33 [==============================] - 0s 12ms/step - loss: 1.1241 - accuracy: 0.8747\n",
            "Epoch 31/1000\n",
            "33/33 [==============================] - 0s 12ms/step - loss: 1.0485 - accuracy: 0.9011\n",
            "Epoch 32/1000\n",
            "33/33 [==============================] - 0s 14ms/step - loss: 0.9991 - accuracy: 0.9126\n",
            "Epoch 33/1000\n",
            "33/33 [==============================] - 0s 14ms/step - loss: 0.9354 - accuracy: 0.9170\n",
            "Epoch 34/1000\n",
            "33/33 [==============================] - 0s 13ms/step - loss: 0.8551 - accuracy: 0.9477\n",
            "Epoch 35/1000\n",
            "33/33 [==============================] - 0s 13ms/step - loss: 0.7764 - accuracy: 0.9639\n",
            "Epoch 36/1000\n",
            "33/33 [==============================] - 0s 14ms/step - loss: 0.7297 - accuracy: 0.9726\n",
            "Epoch 37/1000\n",
            "33/33 [==============================] - 0s 14ms/step - loss: 0.7142 - accuracy: 0.9751\n",
            "Epoch 38/1000\n",
            "33/33 [==============================] - 0s 13ms/step - loss: 0.6430 - accuracy: 0.9831\n",
            "Epoch 39/1000\n",
            "33/33 [==============================] - 0s 13ms/step - loss: 0.6049 - accuracy: 0.9846\n",
            "Epoch 40/1000\n",
            "33/33 [==============================] - 0s 14ms/step - loss: 0.5737 - accuracy: 0.9823\n",
            "Epoch 41/1000\n",
            "33/33 [==============================] - 0s 13ms/step - loss: 0.5298 - accuracy: 0.9844\n",
            "Epoch 42/1000\n",
            "33/33 [==============================] - 0s 13ms/step - loss: 0.4951 - accuracy: 0.9873\n",
            "Epoch 43/1000\n",
            "33/33 [==============================] - 0s 13ms/step - loss: 0.4560 - accuracy: 0.9949\n",
            "Epoch 44/1000\n",
            "33/33 [==============================] - 0s 13ms/step - loss: 0.4460 - accuracy: 0.9901\n",
            "Epoch 45/1000\n",
            "33/33 [==============================] - 0s 13ms/step - loss: 0.4098 - accuracy: 0.9939\n",
            "Epoch 46/1000\n",
            "33/33 [==============================] - 0s 13ms/step - loss: 0.3911 - accuracy: 0.9894\n",
            "Epoch 47/1000\n",
            "33/33 [==============================] - 0s 13ms/step - loss: 0.3605 - accuracy: 0.9918\n",
            "Epoch 48/1000\n",
            "33/33 [==============================] - 0s 13ms/step - loss: 0.3498 - accuracy: 0.9891\n",
            "Epoch 49/1000\n",
            "33/33 [==============================] - 0s 13ms/step - loss: 0.3216 - accuracy: 0.9929\n",
            "Epoch 50/1000\n",
            "33/33 [==============================] - 0s 13ms/step - loss: 0.3038 - accuracy: 0.9923\n",
            "Epoch 51/1000\n",
            "33/33 [==============================] - 0s 13ms/step - loss: 0.2860 - accuracy: 0.9938\n",
            "Epoch 52/1000\n",
            "33/33 [==============================] - 0s 13ms/step - loss: 0.2855 - accuracy: 0.9894\n",
            "Epoch 53/1000\n",
            "33/33 [==============================] - 0s 14ms/step - loss: 0.2584 - accuracy: 0.9894\n",
            "Epoch 54/1000\n",
            "33/33 [==============================] - 0s 13ms/step - loss: 0.2451 - accuracy: 0.9905\n",
            "Epoch 55/1000\n",
            "33/33 [==============================] - 0s 13ms/step - loss: 0.2275 - accuracy: 0.9937\n",
            "Epoch 56/1000\n",
            "33/33 [==============================] - 0s 13ms/step - loss: 0.2296 - accuracy: 0.9875\n",
            "Epoch 57/1000\n",
            "33/33 [==============================] - 0s 13ms/step - loss: 0.2062 - accuracy: 0.9909\n",
            "Epoch 58/1000\n",
            "33/33 [==============================] - 0s 13ms/step - loss: 0.2088 - accuracy: 0.9891\n",
            "Epoch 59/1000\n",
            "33/33 [==============================] - 0s 12ms/step - loss: 0.1895 - accuracy: 0.9925\n",
            "Epoch 60/1000\n",
            "33/33 [==============================] - 0s 13ms/step - loss: 0.1883 - accuracy: 0.9909\n",
            "Epoch 61/1000\n",
            "33/33 [==============================] - 0s 12ms/step - loss: 0.1730 - accuracy: 0.9904\n",
            "Epoch 62/1000\n",
            "33/33 [==============================] - 0s 12ms/step - loss: 0.1702 - accuracy: 0.9873\n",
            "Epoch 63/1000\n",
            "33/33 [==============================] - 0s 12ms/step - loss: 0.1655 - accuracy: 0.9899\n",
            "Epoch 64/1000\n",
            "33/33 [==============================] - 0s 12ms/step - loss: 0.1569 - accuracy: 0.9905\n",
            "Epoch 65/1000\n",
            "33/33 [==============================] - 0s 12ms/step - loss: 0.1472 - accuracy: 0.9934\n",
            "Epoch 66/1000\n",
            "33/33 [==============================] - 0s 13ms/step - loss: 0.1515 - accuracy: 0.9857\n",
            "Epoch 67/1000\n",
            "33/33 [==============================] - 0s 13ms/step - loss: 0.1486 - accuracy: 0.9820\n",
            "Epoch 68/1000\n",
            "33/33 [==============================] - 0s 12ms/step - loss: 0.1366 - accuracy: 0.9850\n",
            "Epoch 69/1000\n",
            "33/33 [==============================] - 0s 12ms/step - loss: 0.1322 - accuracy: 0.9896\n",
            "Epoch 70/1000\n",
            "33/33 [==============================] - 0s 12ms/step - loss: 0.1251 - accuracy: 0.9879\n",
            "Epoch 71/1000\n",
            "33/33 [==============================] - 0s 12ms/step - loss: 0.1171 - accuracy: 0.9912\n",
            "Epoch 72/1000\n",
            "33/33 [==============================] - 0s 12ms/step - loss: 0.1127 - accuracy: 0.9931\n",
            "Epoch 73/1000\n",
            "33/33 [==============================] - 0s 13ms/step - loss: 0.1120 - accuracy: 0.9912\n",
            "Epoch 74/1000\n",
            "33/33 [==============================] - 0s 12ms/step - loss: 0.1118 - accuracy: 0.9850\n",
            "Epoch 75/1000\n",
            "33/33 [==============================] - 0s 12ms/step - loss: 0.1053 - accuracy: 0.9870\n",
            "Epoch 76/1000\n",
            "33/33 [==============================] - 0s 12ms/step - loss: 0.1072 - accuracy: 0.9876\n",
            "Epoch 77/1000\n",
            "33/33 [==============================] - 0s 12ms/step - loss: 0.0979 - accuracy: 0.9899\n",
            "Epoch 78/1000\n",
            "33/33 [==============================] - 0s 12ms/step - loss: 0.0908 - accuracy: 0.9909\n",
            "Epoch 79/1000\n",
            "33/33 [==============================] - 0s 13ms/step - loss: 0.0902 - accuracy: 0.9926\n",
            "Epoch 80/1000\n",
            "33/33 [==============================] - 0s 13ms/step - loss: 0.0903 - accuracy: 0.9878\n",
            "Epoch 81/1000\n",
            "33/33 [==============================] - 0s 12ms/step - loss: 0.0884 - accuracy: 0.9898\n",
            "Epoch 82/1000\n",
            "33/33 [==============================] - 0s 12ms/step - loss: 0.0808 - accuracy: 0.9929\n",
            "Epoch 83/1000\n",
            "33/33 [==============================] - 0s 13ms/step - loss: 0.0811 - accuracy: 0.9875\n",
            "Epoch 84/1000\n",
            "33/33 [==============================] - 0s 12ms/step - loss: 0.0829 - accuracy: 0.9907\n",
            "Epoch 85/1000\n",
            "33/33 [==============================] - 0s 13ms/step - loss: 0.0757 - accuracy: 0.9903\n",
            "Epoch 86/1000\n",
            "33/33 [==============================] - 0s 12ms/step - loss: 0.0832 - accuracy: 0.9880\n",
            "Epoch 87/1000\n",
            "33/33 [==============================] - 0s 13ms/step - loss: 0.0702 - accuracy: 0.9928\n",
            "Epoch 88/1000\n",
            "33/33 [==============================] - 0s 14ms/step - loss: 0.0684 - accuracy: 0.9890\n",
            "Epoch 89/1000\n",
            "33/33 [==============================] - 0s 12ms/step - loss: 0.0715 - accuracy: 0.9854\n",
            "Epoch 90/1000\n",
            "33/33 [==============================] - 0s 12ms/step - loss: 0.0670 - accuracy: 0.9890\n",
            "Epoch 91/1000\n",
            "33/33 [==============================] - 0s 12ms/step - loss: 0.0636 - accuracy: 0.9927\n",
            "Epoch 92/1000\n",
            "33/33 [==============================] - 0s 12ms/step - loss: 0.0653 - accuracy: 0.9868\n",
            "Epoch 93/1000\n",
            "33/33 [==============================] - 0s 13ms/step - loss: 0.0633 - accuracy: 0.9895\n",
            "Epoch 94/1000\n",
            "33/33 [==============================] - 0s 12ms/step - loss: 0.0576 - accuracy: 0.9908\n",
            "Epoch 95/1000\n",
            "33/33 [==============================] - 0s 13ms/step - loss: 0.0571 - accuracy: 0.9919\n",
            "Epoch 96/1000\n",
            "33/33 [==============================] - 0s 12ms/step - loss: 0.0607 - accuracy: 0.9888\n",
            "Epoch 97/1000\n",
            "33/33 [==============================] - 0s 13ms/step - loss: 0.0616 - accuracy: 0.9862\n",
            "Epoch 98/1000\n",
            "33/33 [==============================] - 0s 12ms/step - loss: 0.0585 - accuracy: 0.9878\n",
            "Epoch 99/1000\n",
            "33/33 [==============================] - 0s 12ms/step - loss: 0.0514 - accuracy: 0.9896\n",
            "Epoch 100/1000\n",
            "33/33 [==============================] - 0s 12ms/step - loss: 0.0521 - accuracy: 0.9918\n",
            "Epoch 101/1000\n",
            "33/33 [==============================] - 0s 12ms/step - loss: 0.0496 - accuracy: 0.9903\n",
            "Epoch 102/1000\n",
            "33/33 [==============================] - 0s 13ms/step - loss: 0.0541 - accuracy: 0.9892\n",
            "Epoch 103/1000\n",
            "33/33 [==============================] - 0s 12ms/step - loss: 0.0514 - accuracy: 0.9873\n",
            "Epoch 104/1000\n",
            "33/33 [==============================] - 0s 12ms/step - loss: 0.0428 - accuracy: 0.9944\n",
            "Epoch 105/1000\n",
            "33/33 [==============================] - 0s 13ms/step - loss: 0.0525 - accuracy: 0.9873\n",
            "Epoch 106/1000\n",
            "33/33 [==============================] - 0s 13ms/step - loss: 0.0513 - accuracy: 0.9913\n",
            "Epoch 107/1000\n",
            "33/33 [==============================] - 0s 13ms/step - loss: 0.0484 - accuracy: 0.9908\n",
            "Epoch 108/1000\n",
            "33/33 [==============================] - 0s 12ms/step - loss: 0.0513 - accuracy: 0.9900\n",
            "Epoch 109/1000\n",
            "33/33 [==============================] - 0s 12ms/step - loss: 0.0427 - accuracy: 0.9931\n",
            "Epoch 110/1000\n",
            "33/33 [==============================] - 0s 13ms/step - loss: 0.0403 - accuracy: 0.9903\n",
            "Epoch 111/1000\n",
            "33/33 [==============================] - 0s 12ms/step - loss: 0.0535 - accuracy: 0.9843\n",
            "Epoch 112/1000\n",
            "33/33 [==============================] - 0s 12ms/step - loss: 0.0422 - accuracy: 0.9891\n",
            "Epoch 113/1000\n",
            "33/33 [==============================] - 0s 12ms/step - loss: 0.0444 - accuracy: 0.9856\n",
            "Epoch 114/1000\n",
            "33/33 [==============================] - 0s 12ms/step - loss: 0.0449 - accuracy: 0.9881\n",
            "Epoch 115/1000\n",
            "33/33 [==============================] - 0s 12ms/step - loss: 0.0358 - accuracy: 0.9924\n",
            "Epoch 116/1000\n",
            "33/33 [==============================] - 0s 12ms/step - loss: 0.0477 - accuracy: 0.9786\n",
            "Epoch 117/1000\n",
            "33/33 [==============================] - 0s 13ms/step - loss: 0.0398 - accuracy: 0.9901\n",
            "Epoch 118/1000\n",
            "33/33 [==============================] - 0s 13ms/step - loss: 0.0427 - accuracy: 0.9848\n",
            "Epoch 119/1000\n",
            "33/33 [==============================] - 0s 12ms/step - loss: 0.0349 - accuracy: 0.9906\n",
            "Epoch 120/1000\n",
            "33/33 [==============================] - 0s 13ms/step - loss: 0.0410 - accuracy: 0.9890\n",
            "Epoch 121/1000\n",
            "33/33 [==============================] - 0s 12ms/step - loss: 0.0406 - accuracy: 0.9881\n",
            "Epoch 122/1000\n",
            "33/33 [==============================] - 0s 12ms/step - loss: 0.0395 - accuracy: 0.9904\n",
            "Epoch 123/1000\n",
            "33/33 [==============================] - 0s 13ms/step - loss: 0.0377 - accuracy: 0.9867\n",
            "Epoch 124/1000\n",
            "33/33 [==============================] - 0s 13ms/step - loss: 0.0387 - accuracy: 0.9910\n",
            "Epoch 125/1000\n",
            "33/33 [==============================] - 0s 13ms/step - loss: 0.0334 - accuracy: 0.9924\n",
            "Epoch 126/1000\n",
            "33/33 [==============================] - 0s 13ms/step - loss: 0.0370 - accuracy: 0.9856\n",
            "Epoch 127/1000\n",
            "33/33 [==============================] - 0s 13ms/step - loss: 0.0373 - accuracy: 0.9885\n",
            "Epoch 128/1000\n",
            "33/33 [==============================] - 0s 12ms/step - loss: 0.0352 - accuracy: 0.9896\n",
            "Epoch 129/1000\n",
            "33/33 [==============================] - 0s 12ms/step - loss: 0.0384 - accuracy: 0.9886\n",
            "Epoch 130/1000\n",
            "33/33 [==============================] - 0s 12ms/step - loss: 0.0382 - accuracy: 0.9836\n",
            "Epoch 131/1000\n",
            "33/33 [==============================] - 0s 12ms/step - loss: 0.0375 - accuracy: 0.9885\n",
            "Epoch 132/1000\n",
            "33/33 [==============================] - 0s 12ms/step - loss: 0.0392 - accuracy: 0.9855\n",
            "Epoch 133/1000\n",
            "33/33 [==============================] - 0s 13ms/step - loss: 0.0336 - accuracy: 0.9912\n",
            "Epoch 134/1000\n",
            "33/33 [==============================] - 0s 13ms/step - loss: 0.0306 - accuracy: 0.9899\n",
            "Epoch 135/1000\n",
            "33/33 [==============================] - 0s 12ms/step - loss: 0.0273 - accuracy: 0.9892\n",
            "Epoch 136/1000\n",
            "33/33 [==============================] - 0s 13ms/step - loss: 0.0402 - accuracy: 0.9862\n",
            "Epoch 137/1000\n",
            "33/33 [==============================] - 0s 12ms/step - loss: 0.0330 - accuracy: 0.9868\n",
            "Epoch 138/1000\n",
            "33/33 [==============================] - 0s 12ms/step - loss: 0.0321 - accuracy: 0.9904\n",
            "Epoch 139/1000\n",
            "33/33 [==============================] - 0s 13ms/step - loss: 0.0278 - accuracy: 0.9912\n",
            "Epoch 140/1000\n",
            "33/33 [==============================] - 0s 12ms/step - loss: 0.0297 - accuracy: 0.9919\n",
            "Epoch 141/1000\n",
            "33/33 [==============================] - 0s 13ms/step - loss: 0.0365 - accuracy: 0.9846\n",
            "Epoch 142/1000\n",
            "33/33 [==============================] - 0s 13ms/step - loss: 0.0297 - accuracy: 0.9886\n",
            "Epoch 143/1000\n",
            "33/33 [==============================] - 0s 12ms/step - loss: 0.0282 - accuracy: 0.9909\n",
            "Epoch 144/1000\n",
            "33/33 [==============================] - 0s 13ms/step - loss: 0.0294 - accuracy: 0.9881\n",
            "Epoch 145/1000\n",
            "33/33 [==============================] - 0s 13ms/step - loss: 0.0276 - accuracy: 0.9909\n",
            "Epoch 146/1000\n",
            "33/33 [==============================] - 0s 14ms/step - loss: 0.0255 - accuracy: 0.9916\n",
            "Epoch 147/1000\n",
            "33/33 [==============================] - 0s 13ms/step - loss: 0.0309 - accuracy: 0.9884\n",
            "Epoch 148/1000\n",
            "33/33 [==============================] - 0s 13ms/step - loss: 0.0295 - accuracy: 0.9859\n",
            "Epoch 149/1000\n",
            "33/33 [==============================] - 0s 13ms/step - loss: 0.0327 - accuracy: 0.9886\n",
            "Epoch 150/1000\n",
            "33/33 [==============================] - 0s 13ms/step - loss: 0.0269 - accuracy: 0.9923\n",
            "Epoch 151/1000\n",
            "33/33 [==============================] - 0s 13ms/step - loss: 0.0250 - accuracy: 0.9905\n",
            "Epoch 152/1000\n",
            "33/33 [==============================] - 0s 13ms/step - loss: 0.0275 - accuracy: 0.9872\n",
            "Epoch 153/1000\n",
            "33/33 [==============================] - 0s 13ms/step - loss: 0.0226 - accuracy: 0.9878\n",
            "Epoch 154/1000\n",
            "33/33 [==============================] - 0s 13ms/step - loss: 0.0252 - accuracy: 0.9928\n",
            "Epoch 155/1000\n",
            "33/33 [==============================] - 0s 13ms/step - loss: 0.0246 - accuracy: 0.9909\n",
            "Epoch 156/1000\n",
            "33/33 [==============================] - 0s 13ms/step - loss: 0.0229 - accuracy: 0.9951\n",
            "Epoch 157/1000\n",
            "33/33 [==============================] - 0s 13ms/step - loss: 0.0277 - accuracy: 0.9910\n",
            "Epoch 158/1000\n",
            "33/33 [==============================] - 0s 13ms/step - loss: 0.0223 - accuracy: 0.9927\n",
            "Epoch 159/1000\n",
            "33/33 [==============================] - 0s 13ms/step - loss: 0.0287 - accuracy: 0.9881\n",
            "Epoch 160/1000\n",
            "33/33 [==============================] - 0s 13ms/step - loss: 0.0201 - accuracy: 0.9917\n",
            "Epoch 161/1000\n",
            "33/33 [==============================] - 0s 12ms/step - loss: 0.0263 - accuracy: 0.9871\n",
            "Epoch 162/1000\n",
            "33/33 [==============================] - 0s 13ms/step - loss: 0.0259 - accuracy: 0.9905\n",
            "Epoch 163/1000\n",
            "33/33 [==============================] - 0s 12ms/step - loss: 0.0237 - accuracy: 0.9883\n",
            "Epoch 164/1000\n",
            "33/33 [==============================] - 0s 12ms/step - loss: 0.0274 - accuracy: 0.9885\n",
            "Epoch 165/1000\n",
            "33/33 [==============================] - 0s 12ms/step - loss: 0.0251 - accuracy: 0.9895\n",
            "Epoch 166/1000\n",
            "33/33 [==============================] - 0s 13ms/step - loss: 0.0220 - accuracy: 0.9955\n",
            "\n",
            "Reached acceptable accuary!\n"
          ],
          "name": "stdout"
        }
      ]
    },
    {
      "cell_type": "code",
      "metadata": {
        "id": "9Ahspg7ViAAh"
      },
      "source": [
        "import matplotlib.pyplot as plt\n",
        "\n",
        "def plot_graphs(history, string):\n",
        "    plt.plot(history.history[string])\n",
        "    plt.xlabel(\"Epochs\")\n",
        "    plt.ylabel(string)\n",
        "    plt.show()"
      ],
      "execution_count": 46,
      "outputs": []
    },
    {
      "cell_type": "code",
      "metadata": {
        "colab": {
          "base_uri": "https://localhost:8080/",
          "height": 279
        },
        "id": "gzNhhy94iAAi",
        "outputId": "b3d232cb-1211-4094-c9b2-b89eea62986b"
      },
      "source": [
        "plot_graphs(history, 'accuracy')"
      ],
      "execution_count": 47,
      "outputs": [
        {
          "output_type": "display_data",
          "data": {
            "image/png": "[encoded data removed]",
            "text/plain": [
              "<Figure size 432x288 with 1 Axes>"
            ]
          },
          "metadata": {
            "tags": [],
            "needs_background": "light"
          }
        }
      ]
    },
    {
      "cell_type": "code",
      "metadata": {
        "colab": {
          "base_uri": "https://localhost:8080/"
        },
        "id": "mgJX0CPCiAAi",
        "outputId": "c1a0f4c6-7eb0-493b-a337-e435150dcebd"
      },
      "source": [
        "#seed_text = \"Using data science to optimize your budget\"\n",
        "#seed_text = \"rich customer experience has always been an important factor\"\n",
        "seed_text = \"This can be highly beneficial\"\n",
        "next_words = 100\n",
        "\n",
        "for _ in range(next_words):\n",
        "    token_list = tokenizer.texts_to_sequences([seed_text])[0]\n",
        "    token_list = pad_sequences([token_list],maxlen=max_sequence_len-1,padding='pre')\n",
        "    #predicted = model.predict_classes(token_list,verbose=0)\n",
        "    predicted = model.predict(token_list)\n",
        "    rescaled_logits = tf.math.log(predicted) / temperature\n",
        "    output_word = \"\"\n",
        "    for word, index in tokenizer.word_index.items():\n",
        "        if index == predicted:\n",
        "            output_word = word\n",
        "            break\n",
        "    seed_text += \" \" + output_word\n",
        "print(seed_text)"
      ],
      "execution_count": 49,
      "outputs": [
        {
          "output_type": "stream",
          "text": [
            "/usr/local/lib/python3.6/dist-packages/tensorflow/python/keras/engine/sequential.py:450: UserWarning: `model.predict_classes()` is deprecated and will be removed after 2021-01-01. Please use instead:* `np.argmax(model.predict(x), axis=-1)`,   if your model does multi-class classification   (e.g. if it uses a `softmax` last-layer activation).* `(model.predict(x) > 0.5).astype(\"int32\")`,   if your model does binary classification   (e.g. if it uses a `sigmoid` last-layer activation).\n",
            "  warnings.warn('`model.predict_classes()` is deprecated and '\n"
          ],
          "name": "stderr"
        },
        {
          "output_type": "stream",
          "text": [
            "This can be highly beneficial as it tells the marketer exactly which channel and medium are delivering proper returns cross channel micro copy on landing pages pricing upsells cross sells product and content recommendations email marketing copy and offers coupon codes and discounts location based advertising campaigns real time push or mobile app messages speaking of the latter starbucks did a particularly impressive job with mobile marketing personalisation personalisation is a leads of data scientist can use data sources internal and external external external external external external external external external external external external external external and external external external external external the external external is\n"
          ],
          "name": "stdout"
        }
      ]
    },
    {
      "cell_type": "code",
      "metadata": {
        "id": "iDDTtGAJiAAi",
        "colab": {
          "base_uri": "https://localhost:8080/",
          "height": 35
        },
        "outputId": "38dbeb18-02d4-4b36-d644-7d35937e581d"
      },
      "source": [
        "seed_text[0]"
      ],
      "execution_count": 53,
      "outputs": [
        {
          "output_type": "execute_result",
          "data": {
            "application/vnd.google.colaboratory.intrinsic+json": {
              "type": "string"
            },
            "text/plain": [
              "'T'"
            ]
          },
          "metadata": {
            "tags": []
          },
          "execution_count": 53
        }
      ]
    },
    {
      "cell_type": "code",
      "metadata": {
        "id": "1RZmNcvpagdx"
      },
      "source": [
        "def next_char(text,temperature=1):\n",
        "  print(\"started function\")\n",
        "  X_new = tokenizer.texts_to_sequences(text)\n",
        "  print(f'X_new:{X_new}')\n",
        "  print(\"tokenized\")\n",
        "  y_prob = model.predict(X_new) #[0,-1:,:]\n",
        "  print(\"prob started\")\n",
        "  rescaled_logits = tf.math.log(predicted) / temperature\n",
        "  char_id = tf.random.categorical(rescaled_logits,num_samples=1) + 1\n",
        "  return tokenizer.sequences_to_texts(char_id.numpy())[0]"
      ],
      "execution_count": 85,
      "outputs": []
    },
    {
      "cell_type": "code",
      "metadata": {
        "id": "v6Zebw2bb-PP"
      },
      "source": [
        "def complete_text(text,n_chars=50,temperature=1):\n",
        "  print(\"function started\")\n",
        "  for x in range(n_chars):\n",
        "    print(\"startd loop\")\n",
        "    text += next_char(text,temperature)\n",
        "  return text"
      ],
      "execution_count": 86,
      "outputs": []
    },
    {
      "cell_type": "code",
      "metadata": {
        "colab": {
          "base_uri": "https://localhost:8080/",
          "height": 433
        },
        "id": "_-YIYPFWcKcd",
        "outputId": "72199916-e89f-428a-af65-523cbce5dbf1"
      },
      "source": [
        "complete_text(seed_text,n_chars=len(seed_text),temperature=0.2)"
      ],
      "execution_count": 88,
      "outputs": [
        {
          "output_type": "stream",
          "text": [
            "function started\n",
            "startd loop\n",
            "started function\n",
            "X_new:[[], [], [], [243], [], [304], [5], [], [], [124], [], [], [], [], [], [], [], [], [], [124], [], [], [], [], [], [304], [], [5], [], [], [5], [243], [], [], [], [], [], [], [], [], [243], [], [], [], [], [], [], [5], [], [], [], [], [], [], [], [], [441], [5], [304], [], [], [], [], [], [], [], [304], [], [], [304], [], [5], [], [], [], [], [], [5], [], [], [], [], [], [], [], [], [], [], [5], [], [], [], [], [], [], [], [], [], [], [], [], [], [], [], [], [], [], [], [], [], [], [], [], [], [], [], [243], [], [304], [], [], [243], [243], [], [304], [], [5], [], [], [], [], [], [], [], [304], [], [], [], [304], [], [], [], [], [], [], [], [], [5], [], [], [], [], [], [], [], [5], [], [], [243], [], [], [], [], [304], [], [], [], [], [], [], [243], [], [], [], [243], [], [304], [], [], [243], [243], [], [243], [], [], [], [243], [], [], [], [], [], [], [304], [], [], [5], [], [], [], [304], [], [], [], [], [], [], [], [], [], [304], [], [], [], [], [], [], [5], [], [], [], [], [243], [], [], [], [5], [], [], [], [], [5], [], [], [], [], [], [], [], [], [304], [], [], [], [], [5], [], [], [], [], [], [], [], [], [243], [], [304], [], [], [], [], [], [], [304], [], [], [], [243], [], [5], [], [], [], [], [], [243], [304], [], [], [], [], [243], [], [], [], [304], [5], [], [], [], [], [], [124], [5], [243], [], [], [], [5], [], [], [], [], [], [], [243], [], [], [], [], [304], [5], [], [], [5], [], [], [], [243], [], [], [], [5], [], [], [], [], [], [], [], [], [], [243], [], [], [], [], [], [], [], [124], [], [], [], [], [5], [], [], [], [], [], [243], [243], [5], [], [], [243], [], [243], [], [], [5], [], [], [], [], [], [], [], [], [], [], [], [], [], [5], [], [], [], [], [], [243], [], [5], [], [124], [], [304], [], [243], [], [], [], [], [], [5], [], [], [5], [], [], [], [304], [], [], [5], [], [], [], [], [], [], [], [], [], [243], [243], [], [], [], [], [], [], [124], [], [], [], [], [], [], [], [], [124], [], [], [], [], [], [5], [], [], [], [], [], [], [], [], [], [], [], [243], [], [], [5], [], [], [243], [5], [], [], [], [], [], [], [], [], [243], [], [], [5], [], [], [243], [5], [], [], [], [], [], [], [243], [], [5], [], [], [], [5], [], [243], [], [], [], [], [], [5], [], [5], [], [243], [304], [], [], [], [], [], [243], [], [], [304], [5], [], [], [], [243], [], [], [], [5], [], [5], [], [243], [], [], [], [304], [], [243], [], [], [], [], [], [], [], [5], [], [], [5], [], [], [], [], [441], [], [], [], [], [5], [], [], [], [441], [], [], [], [], [5], [], [], [], [441], [], [], [], [], [5], [], [], [], [441], [], [], [], [], [5], [], [], [], [441], [], [], [], [], [5], [], [], [], [441], [], [], [], [], [5], [], [], [], [441], [], [], [], [], [5], [], [], [], [441], [], [], [], [], [5], [], [], [], [441], [], [], [], [], [5], [], [], [], [441], [], [], [], [], [5], [], [], [], [441], [], [], [], [], [5], [], [], [], [441], [], [], [], [], [5], [], [], [], [441], [], [], [], [], [5], [], [], [], [441], [], [], [], [], [5], [], [], [5], [], [], [], [], [441], [], [], [], [], [5], [], [], [], [441], [], [], [], [], [5], [], [], [], [441], [], [], [], [], [5], [], [], [], [441], [], [], [], [], [5], [], [], [], [441], [], [], [], [], [5], [], [], [], [], [], [], [], [441], [], [], [], [], [5], [], [], [], [441], [], [], [], [], [5], [], [], [], [243]]\n",
            "tokenized\n"
          ],
          "name": "stdout"
        },
        {
          "output_type": "error",
          "ename": "IndexError",
          "evalue": "ignored",
          "traceback": [
            "\u001b[0;31m---------------------------------------------------------------------------\u001b[0m",
            "\u001b[0;31mIndexError\u001b[0m                                Traceback (most recent call last)",
            "\u001b[0;32m<ipython-input-88-bca2cf821b39>\u001b[0m in \u001b[0;36m<module>\u001b[0;34m()\u001b[0m\n\u001b[0;32m----> 1\u001b[0;31m \u001b[0mcomplete_text\u001b[0m\u001b[0;34m(\u001b[0m\u001b[0mseed_text\u001b[0m\u001b[0;34m,\u001b[0m\u001b[0mn_chars\u001b[0m\u001b[0;34m=\u001b[0m\u001b[0mlen\u001b[0m\u001b[0;34m(\u001b[0m\u001b[0mseed_text\u001b[0m\u001b[0;34m)\u001b[0m\u001b[0;34m,\u001b[0m\u001b[0mtemperature\u001b[0m\u001b[0;34m=\u001b[0m\u001b[0;36m0.2\u001b[0m\u001b[0;34m)\u001b[0m\u001b[0;34m\u001b[0m\u001b[0;34m\u001b[0m\u001b[0m\n\u001b[0m",
            "\u001b[0;32m<ipython-input-86-f2bdf9c6191b>\u001b[0m in \u001b[0;36mcomplete_text\u001b[0;34m(text, n_chars, temperature)\u001b[0m\n\u001b[1;32m      3\u001b[0m   \u001b[0;32mfor\u001b[0m \u001b[0mx\u001b[0m \u001b[0;32min\u001b[0m \u001b[0mrange\u001b[0m\u001b[0;34m(\u001b[0m\u001b[0mn_chars\u001b[0m\u001b[0;34m)\u001b[0m\u001b[0;34m:\u001b[0m\u001b[0;34m\u001b[0m\u001b[0;34m\u001b[0m\u001b[0m\n\u001b[1;32m      4\u001b[0m     \u001b[0mprint\u001b[0m\u001b[0;34m(\u001b[0m\u001b[0;34m\"startd loop\"\u001b[0m\u001b[0;34m)\u001b[0m\u001b[0;34m\u001b[0m\u001b[0;34m\u001b[0m\u001b[0m\n\u001b[0;32m----> 5\u001b[0;31m     \u001b[0mtext\u001b[0m \u001b[0;34m+=\u001b[0m \u001b[0mnext_char\u001b[0m\u001b[0;34m(\u001b[0m\u001b[0mtext\u001b[0m\u001b[0;34m,\u001b[0m\u001b[0mtemperature\u001b[0m\u001b[0;34m)\u001b[0m\u001b[0;34m\u001b[0m\u001b[0;34m\u001b[0m\u001b[0m\n\u001b[0m\u001b[1;32m      6\u001b[0m   \u001b[0;32mreturn\u001b[0m \u001b[0mtext\u001b[0m\u001b[0;34m\u001b[0m\u001b[0;34m\u001b[0m\u001b[0m\n",
            "\u001b[0;32m<ipython-input-85-4951534272aa>\u001b[0m in \u001b[0;36mnext_char\u001b[0;34m(text, temperature)\u001b[0m\n\u001b[1;32m      4\u001b[0m   \u001b[0mprint\u001b[0m\u001b[0;34m(\u001b[0m\u001b[0;34mf'X_new:{X_new}'\u001b[0m\u001b[0;34m)\u001b[0m\u001b[0;34m\u001b[0m\u001b[0;34m\u001b[0m\u001b[0m\n\u001b[1;32m      5\u001b[0m   \u001b[0mprint\u001b[0m\u001b[0;34m(\u001b[0m\u001b[0;34m\"tokenized\"\u001b[0m\u001b[0;34m)\u001b[0m\u001b[0;34m\u001b[0m\u001b[0;34m\u001b[0m\u001b[0m\n\u001b[0;32m----> 6\u001b[0;31m   \u001b[0my_prob\u001b[0m \u001b[0;34m=\u001b[0m \u001b[0mmodel\u001b[0m\u001b[0;34m.\u001b[0m\u001b[0mpredict\u001b[0m\u001b[0;34m(\u001b[0m\u001b[0mX_new\u001b[0m\u001b[0;34m)\u001b[0m \u001b[0;31m#[0,-1:,:]\u001b[0m\u001b[0;34m\u001b[0m\u001b[0;34m\u001b[0m\u001b[0m\n\u001b[0m\u001b[1;32m      7\u001b[0m   \u001b[0mprint\u001b[0m\u001b[0;34m(\u001b[0m\u001b[0;34m\"prob started\"\u001b[0m\u001b[0;34m)\u001b[0m\u001b[0;34m\u001b[0m\u001b[0;34m\u001b[0m\u001b[0m\n\u001b[1;32m      8\u001b[0m   \u001b[0mrescaled_logits\u001b[0m \u001b[0;34m=\u001b[0m \u001b[0mtf\u001b[0m\u001b[0;34m.\u001b[0m\u001b[0mmath\u001b[0m\u001b[0;34m.\u001b[0m\u001b[0mlog\u001b[0m\u001b[0;34m(\u001b[0m\u001b[0mpredicted\u001b[0m\u001b[0;34m)\u001b[0m \u001b[0;34m/\u001b[0m \u001b[0mtemperature\u001b[0m\u001b[0;34m\u001b[0m\u001b[0;34m\u001b[0m\u001b[0m\n",
            "\u001b[0;32m/usr/local/lib/python3.6/dist-packages/tensorflow/python/keras/engine/training.py\u001b[0m in \u001b[0;36mpredict\u001b[0;34m(self, x, batch_size, verbose, steps, callbacks, max_queue_size, workers, use_multiprocessing)\u001b[0m\n\u001b[1;32m   1606\u001b[0m           \u001b[0muse_multiprocessing\u001b[0m\u001b[0;34m=\u001b[0m\u001b[0muse_multiprocessing\u001b[0m\u001b[0;34m,\u001b[0m\u001b[0;34m\u001b[0m\u001b[0;34m\u001b[0m\u001b[0m\n\u001b[1;32m   1607\u001b[0m           \u001b[0mmodel\u001b[0m\u001b[0;34m=\u001b[0m\u001b[0mself\u001b[0m\u001b[0;34m,\u001b[0m\u001b[0;34m\u001b[0m\u001b[0;34m\u001b[0m\u001b[0m\n\u001b[0;32m-> 1608\u001b[0;31m           steps_per_execution=self._steps_per_execution)\n\u001b[0m\u001b[1;32m   1609\u001b[0m \u001b[0;34m\u001b[0m\u001b[0m\n\u001b[1;32m   1610\u001b[0m       \u001b[0;31m# Container that configures and calls `tf.keras.Callback`s.\u001b[0m\u001b[0;34m\u001b[0m\u001b[0;34m\u001b[0m\u001b[0;34m\u001b[0m\u001b[0m\n",
            "\u001b[0;32m/usr/local/lib/python3.6/dist-packages/tensorflow/python/keras/engine/data_adapter.py\u001b[0m in \u001b[0;36m__init__\u001b[0;34m(self, x, y, sample_weight, batch_size, steps_per_epoch, initial_epoch, epochs, shuffle, class_weight, max_queue_size, workers, use_multiprocessing, model, steps_per_execution)\u001b[0m\n\u001b[1;32m   1097\u001b[0m       \u001b[0mself\u001b[0m\u001b[0;34m.\u001b[0m\u001b[0m_steps_per_execution_value\u001b[0m \u001b[0;34m=\u001b[0m \u001b[0msteps_per_execution\u001b[0m\u001b[0;34m.\u001b[0m\u001b[0mnumpy\u001b[0m\u001b[0;34m(\u001b[0m\u001b[0;34m)\u001b[0m\u001b[0;34m.\u001b[0m\u001b[0mitem\u001b[0m\u001b[0;34m(\u001b[0m\u001b[0;34m)\u001b[0m\u001b[0;34m\u001b[0m\u001b[0;34m\u001b[0m\u001b[0m\n\u001b[1;32m   1098\u001b[0m \u001b[0;34m\u001b[0m\u001b[0m\n\u001b[0;32m-> 1099\u001b[0;31m     \u001b[0madapter_cls\u001b[0m \u001b[0;34m=\u001b[0m \u001b[0mselect_data_adapter\u001b[0m\u001b[0;34m(\u001b[0m\u001b[0mx\u001b[0m\u001b[0;34m,\u001b[0m \u001b[0my\u001b[0m\u001b[0;34m)\u001b[0m\u001b[0;34m\u001b[0m\u001b[0;34m\u001b[0m\u001b[0m\n\u001b[0m\u001b[1;32m   1100\u001b[0m     self._adapter = adapter_cls(\n\u001b[1;32m   1101\u001b[0m         \u001b[0mx\u001b[0m\u001b[0;34m,\u001b[0m\u001b[0;34m\u001b[0m\u001b[0;34m\u001b[0m\u001b[0m\n",
            "\u001b[0;32m/usr/local/lib/python3.6/dist-packages/tensorflow/python/keras/engine/data_adapter.py\u001b[0m in \u001b[0;36mselect_data_adapter\u001b[0;34m(x, y)\u001b[0m\n\u001b[1;32m    956\u001b[0m \u001b[0;32mdef\u001b[0m \u001b[0mselect_data_adapter\u001b[0m\u001b[0;34m(\u001b[0m\u001b[0mx\u001b[0m\u001b[0;34m,\u001b[0m \u001b[0my\u001b[0m\u001b[0;34m)\u001b[0m\u001b[0;34m:\u001b[0m\u001b[0;34m\u001b[0m\u001b[0;34m\u001b[0m\u001b[0m\n\u001b[1;32m    957\u001b[0m   \u001b[0;34m\"\"\"Selects a data adapter than can handle a given x and y.\"\"\"\u001b[0m\u001b[0;34m\u001b[0m\u001b[0;34m\u001b[0m\u001b[0m\n\u001b[0;32m--> 958\u001b[0;31m   \u001b[0madapter_cls\u001b[0m \u001b[0;34m=\u001b[0m \u001b[0;34m[\u001b[0m\u001b[0mcls\u001b[0m \u001b[0;32mfor\u001b[0m \u001b[0mcls\u001b[0m \u001b[0;32min\u001b[0m \u001b[0mALL_ADAPTER_CLS\u001b[0m \u001b[0;32mif\u001b[0m \u001b[0mcls\u001b[0m\u001b[0;34m.\u001b[0m\u001b[0mcan_handle\u001b[0m\u001b[0;34m(\u001b[0m\u001b[0mx\u001b[0m\u001b[0;34m,\u001b[0m \u001b[0my\u001b[0m\u001b[0;34m)\u001b[0m\u001b[0;34m]\u001b[0m\u001b[0;34m\u001b[0m\u001b[0;34m\u001b[0m\u001b[0m\n\u001b[0m\u001b[1;32m    959\u001b[0m   \u001b[0;32mif\u001b[0m \u001b[0;32mnot\u001b[0m \u001b[0madapter_cls\u001b[0m\u001b[0;34m:\u001b[0m\u001b[0;34m\u001b[0m\u001b[0;34m\u001b[0m\u001b[0m\n\u001b[1;32m    960\u001b[0m     \u001b[0;31m# TODO(scottzhu): This should be a less implementation-specific error.\u001b[0m\u001b[0;34m\u001b[0m\u001b[0;34m\u001b[0m\u001b[0;34m\u001b[0m\u001b[0m\n",
            "\u001b[0;32m/usr/local/lib/python3.6/dist-packages/tensorflow/python/keras/engine/data_adapter.py\u001b[0m in \u001b[0;36m<listcomp>\u001b[0;34m(.0)\u001b[0m\n\u001b[1;32m    956\u001b[0m \u001b[0;32mdef\u001b[0m \u001b[0mselect_data_adapter\u001b[0m\u001b[0;34m(\u001b[0m\u001b[0mx\u001b[0m\u001b[0;34m,\u001b[0m \u001b[0my\u001b[0m\u001b[0;34m)\u001b[0m\u001b[0;34m:\u001b[0m\u001b[0;34m\u001b[0m\u001b[0;34m\u001b[0m\u001b[0m\n\u001b[1;32m    957\u001b[0m   \u001b[0;34m\"\"\"Selects a data adapter than can handle a given x and y.\"\"\"\u001b[0m\u001b[0;34m\u001b[0m\u001b[0;34m\u001b[0m\u001b[0m\n\u001b[0;32m--> 958\u001b[0;31m   \u001b[0madapter_cls\u001b[0m \u001b[0;34m=\u001b[0m \u001b[0;34m[\u001b[0m\u001b[0mcls\u001b[0m \u001b[0;32mfor\u001b[0m \u001b[0mcls\u001b[0m \u001b[0;32min\u001b[0m \u001b[0mALL_ADAPTER_CLS\u001b[0m \u001b[0;32mif\u001b[0m \u001b[0mcls\u001b[0m\u001b[0;34m.\u001b[0m\u001b[0mcan_handle\u001b[0m\u001b[0;34m(\u001b[0m\u001b[0mx\u001b[0m\u001b[0;34m,\u001b[0m \u001b[0my\u001b[0m\u001b[0;34m)\u001b[0m\u001b[0;34m]\u001b[0m\u001b[0;34m\u001b[0m\u001b[0;34m\u001b[0m\u001b[0m\n\u001b[0m\u001b[1;32m    959\u001b[0m   \u001b[0;32mif\u001b[0m \u001b[0;32mnot\u001b[0m \u001b[0madapter_cls\u001b[0m\u001b[0;34m:\u001b[0m\u001b[0;34m\u001b[0m\u001b[0;34m\u001b[0m\u001b[0m\n\u001b[1;32m    960\u001b[0m     \u001b[0;31m# TODO(scottzhu): This should be a less implementation-specific error.\u001b[0m\u001b[0;34m\u001b[0m\u001b[0;34m\u001b[0m\u001b[0;34m\u001b[0m\u001b[0m\n",
            "\u001b[0;32m/usr/local/lib/python3.6/dist-packages/tensorflow/python/keras/engine/data_adapter.py\u001b[0m in \u001b[0;36mcan_handle\u001b[0;34m(x, y)\u001b[0m\n\u001b[1;32m    610\u001b[0m   \u001b[0;34m@\u001b[0m\u001b[0mstaticmethod\u001b[0m\u001b[0;34m\u001b[0m\u001b[0;34m\u001b[0m\u001b[0m\n\u001b[1;32m    611\u001b[0m   \u001b[0;32mdef\u001b[0m \u001b[0mcan_handle\u001b[0m\u001b[0;34m(\u001b[0m\u001b[0mx\u001b[0m\u001b[0;34m,\u001b[0m \u001b[0my\u001b[0m\u001b[0;34m=\u001b[0m\u001b[0;32mNone\u001b[0m\u001b[0;34m)\u001b[0m\u001b[0;34m:\u001b[0m\u001b[0;34m\u001b[0m\u001b[0;34m\u001b[0m\u001b[0m\n\u001b[0;32m--> 612\u001b[0;31m     \u001b[0mhandles_x\u001b[0m \u001b[0;34m=\u001b[0m \u001b[0mListsOfScalarsDataAdapter\u001b[0m\u001b[0;34m.\u001b[0m\u001b[0m_is_list_of_scalars\u001b[0m\u001b[0;34m(\u001b[0m\u001b[0mx\u001b[0m\u001b[0;34m)\u001b[0m\u001b[0;34m\u001b[0m\u001b[0;34m\u001b[0m\u001b[0m\n\u001b[0m\u001b[1;32m    613\u001b[0m     \u001b[0mhandles_y\u001b[0m \u001b[0;34m=\u001b[0m \u001b[0;32mTrue\u001b[0m\u001b[0;34m\u001b[0m\u001b[0;34m\u001b[0m\u001b[0m\n\u001b[1;32m    614\u001b[0m     \u001b[0;32mif\u001b[0m \u001b[0my\u001b[0m \u001b[0;32mis\u001b[0m \u001b[0;32mnot\u001b[0m \u001b[0;32mNone\u001b[0m\u001b[0;34m:\u001b[0m\u001b[0;34m\u001b[0m\u001b[0;34m\u001b[0m\u001b[0m\n",
            "\u001b[0;32m/usr/local/lib/python3.6/dist-packages/tensorflow/python/keras/engine/data_adapter.py\u001b[0m in \u001b[0;36m_is_list_of_scalars\u001b[0;34m(inp)\u001b[0m\n\u001b[1;32m    621\u001b[0m       \u001b[0;32mreturn\u001b[0m \u001b[0;32mTrue\u001b[0m\u001b[0;34m\u001b[0m\u001b[0;34m\u001b[0m\u001b[0m\n\u001b[1;32m    622\u001b[0m     \u001b[0;32mif\u001b[0m \u001b[0misinstance\u001b[0m\u001b[0;34m(\u001b[0m\u001b[0minp\u001b[0m\u001b[0;34m,\u001b[0m \u001b[0;34m(\u001b[0m\u001b[0mlist\u001b[0m\u001b[0;34m,\u001b[0m \u001b[0mtuple\u001b[0m\u001b[0;34m)\u001b[0m\u001b[0;34m)\u001b[0m\u001b[0;34m:\u001b[0m\u001b[0;34m\u001b[0m\u001b[0;34m\u001b[0m\u001b[0m\n\u001b[0;32m--> 623\u001b[0;31m       \u001b[0;32mreturn\u001b[0m \u001b[0mListsOfScalarsDataAdapter\u001b[0m\u001b[0;34m.\u001b[0m\u001b[0m_is_list_of_scalars\u001b[0m\u001b[0;34m(\u001b[0m\u001b[0minp\u001b[0m\u001b[0;34m[\u001b[0m\u001b[0;36m0\u001b[0m\u001b[0;34m]\u001b[0m\u001b[0;34m)\u001b[0m\u001b[0;34m\u001b[0m\u001b[0;34m\u001b[0m\u001b[0m\n\u001b[0m\u001b[1;32m    624\u001b[0m     \u001b[0;32mreturn\u001b[0m \u001b[0;32mFalse\u001b[0m\u001b[0;34m\u001b[0m\u001b[0;34m\u001b[0m\u001b[0m\n\u001b[1;32m    625\u001b[0m \u001b[0;34m\u001b[0m\u001b[0m\n",
            "\u001b[0;32m/usr/local/lib/python3.6/dist-packages/tensorflow/python/keras/engine/data_adapter.py\u001b[0m in \u001b[0;36m_is_list_of_scalars\u001b[0;34m(inp)\u001b[0m\n\u001b[1;32m    621\u001b[0m       \u001b[0;32mreturn\u001b[0m \u001b[0;32mTrue\u001b[0m\u001b[0;34m\u001b[0m\u001b[0;34m\u001b[0m\u001b[0m\n\u001b[1;32m    622\u001b[0m     \u001b[0;32mif\u001b[0m \u001b[0misinstance\u001b[0m\u001b[0;34m(\u001b[0m\u001b[0minp\u001b[0m\u001b[0;34m,\u001b[0m \u001b[0;34m(\u001b[0m\u001b[0mlist\u001b[0m\u001b[0;34m,\u001b[0m \u001b[0mtuple\u001b[0m\u001b[0;34m)\u001b[0m\u001b[0;34m)\u001b[0m\u001b[0;34m:\u001b[0m\u001b[0;34m\u001b[0m\u001b[0;34m\u001b[0m\u001b[0m\n\u001b[0;32m--> 623\u001b[0;31m       \u001b[0;32mreturn\u001b[0m \u001b[0mListsOfScalarsDataAdapter\u001b[0m\u001b[0;34m.\u001b[0m\u001b[0m_is_list_of_scalars\u001b[0m\u001b[0;34m(\u001b[0m\u001b[0minp\u001b[0m\u001b[0;34m[\u001b[0m\u001b[0;36m0\u001b[0m\u001b[0;34m]\u001b[0m\u001b[0;34m)\u001b[0m\u001b[0;34m\u001b[0m\u001b[0;34m\u001b[0m\u001b[0m\n\u001b[0m\u001b[1;32m    624\u001b[0m     \u001b[0;32mreturn\u001b[0m \u001b[0;32mFalse\u001b[0m\u001b[0;34m\u001b[0m\u001b[0;34m\u001b[0m\u001b[0m\n\u001b[1;32m    625\u001b[0m \u001b[0;34m\u001b[0m\u001b[0m\n",
            "\u001b[0;31mIndexError\u001b[0m: list index out of range"
          ]
        }
      ]
    },
    {
      "cell_type": "code",
      "metadata": {
        "colab": {
          "base_uri": "https://localhost:8080/",
          "height": 108
        },
        "id": "3k6asST5cQJD",
        "outputId": "d58509f9-836a-4b57-c388-0c0962a3d0ed"
      },
      "source": [
        "seed_text"
      ],
      "execution_count": 84,
      "outputs": [
        {
          "output_type": "execute_result",
          "data": {
            "application/vnd.google.colaboratory.intrinsic+json": {
              "type": "string"
            },
            "text/plain": [
              "'This can be highly beneficial as it tells the marketer exactly which channel and medium are delivering proper returns cross channel micro copy on landing pages pricing upsells cross sells product and content recommendations email marketing copy and offers coupon codes and discounts location based advertising campaigns real time push or mobile app messages speaking of the latter starbucks did a particularly impressive job with mobile marketing personalisation personalisation is a leads of data scientist can use data sources internal and external external external external external external external external external external external external external external and external external external external external the external external is'"
            ]
          },
          "metadata": {
            "tags": []
          },
          "execution_count": 84
        }
      ]
    },
    {
      "cell_type": "code",
      "metadata": {
        "id": "e4RsIhfmdSQb"
      },
      "source": [
        ""
      ],
      "execution_count": null,
      "outputs": []
    }
  ]
}