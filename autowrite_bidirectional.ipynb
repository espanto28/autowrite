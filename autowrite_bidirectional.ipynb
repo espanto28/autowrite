{
 "cells": [
  {
   "cell_type": "markdown",
   "metadata": {},
   "source": [
    "# Bidirectional approach"
   ]
  },
  {
   "cell_type": "code",
   "execution_count": 2,
   "metadata": {},
   "outputs": [],
   "source": [
    "#import libraries\n",
    "import tensorflow as tf\n",
    "\n",
    "from tensorflow.keras.preprocessing.sequence import pad_sequences\n",
    "from tensorflow.keras.layers import Embedding, LSTM, Dense, Bidirectional\n",
    "from tensorflow.keras.preprocessing.text import Tokenizer\n",
    "from tensorflow.keras.models import Sequential\n",
    "from tensorflow.keras.optimizers import Adam\n",
    "import numpy as np "
   ]
  },
  {
   "cell_type": "code",
   "execution_count": 3,
   "metadata": {},
   "outputs": [],
   "source": [
    "path_to_file = \"articles/sample_text.txt\""
   ]
  },
  {
   "cell_type": "code",
   "execution_count": 4,
   "metadata": {},
   "outputs": [],
   "source": [
    "tokenizer = Tokenizer()"
   ]
  },
  {
   "cell_type": "code",
   "execution_count": 5,
   "metadata": {},
   "outputs": [
    {
     "name": "stdout",
     "output_type": "stream",
     "text": [
      "The length of the article is 20038\n"
     ]
    }
   ],
   "source": [
    "text = open(path_to_file,'rb').read().decode(encoding='utf-8')\n",
    "print(f'The length of the article is {len(text)}')"
   ]
  },
  {
   "cell_type": "code",
   "execution_count": 6,
   "metadata": {},
   "outputs": [],
   "source": [
    "data = text.lower().replace('\\xa0\\xa0','')"
   ]
  },
  {
   "cell_type": "code",
   "execution_count": 7,
   "metadata": {},
   "outputs": [],
   "source": [
    "data = text.lower().replace('\\xa0','')\n",
    "data = data.split(\".\")\n",
    "#data"
   ]
  },
  {
   "cell_type": "code",
   "execution_count": 8,
   "metadata": {},
   "outputs": [
    {
     "name": "stdout",
     "output_type": "stream",
     "text": [
      "{'the': 1, 'to': 2, 'data': 3, 'and': 4, 'a': 5, 'is': 6, 'of': 7, 'marketing': 8, 'you': 9, 'are': 10, 'your': 11, 'science': 12, 'that': 13, 'in': 14, 'can': 15, 'for': 16, 'on': 17, 'scientist': 18, 'growth': 19, 'this': 20, 'with': 21, 'insights': 22, 'customer': 23, 'as': 24, 'not': 25, 'have': 26, 'their': 27, 'what': 28, 'business': 29, 'customers': 30, 'it': 31, 'at': 32, 'by': 33, 'marketer': 34, 'an': 35, 'analysis': 36, 'how': 37, 'or': 38, 'where': 39, 'model': 40, 'most': 41, 'do': 42, 'they': 43, 'new': 44, 'team': 45, 'likely': 46, 'from': 47, 'clustering': 48, 'product': 49, 'marketers': 50, 'scientists': 51, 'understanding': 52, 'will': 53, 'we': 54, 'then': 55, 'way': 56, 'about': 57, 'people': 58, 'through': 59, 'strategy': 60, 'help': 61, 'like': 62, 'learning': 63, 'one': 64, 'who': 65, 'target': 66, 'give': 67, 'has': 68, 'sentiment': 69, 'brand': 70, 'into': 71, 'machine': 72, 'understand': 73, 'some': 74, 'does': 75, 'while': 76, 'other': 77, 'but': 78, 'buy': 79, 'more': 80, 'campaigns': 81, 'them': 82, 'methods': 83, 'use': 84, 'make': 85, 'artificial': 86, 'intelligence': 87, 'effective': 88, 'which': 89, 'company': 90, 'market': 91, 'be': 92, 'allows': 93, 'segments': 94, 'when': 95, 'just': 96, 'research': 97, 'insight': 98, 'should': 99, 'between': 100, 'using': 101, 'develop': 102, 'also': 103, 'google': 104, 'large': 105, 'clusters': 106, 'campaign': 107, 'content': 108, 'know': 109, 'netflix': 110, 'us': 111, 'return': 112, 'investment': 113, 'funnel': 114, 'there': 115, 'often': 116, 'past': 117, 'engineer': 118, 'need': 119, 'questions': 120, 'communicate': 121, 'its': 122, 'out': 123, 'variables': 124, 'look': 125, 'affinity': 126, 'employed': 127, 'might': 128, 'every': 129, 'value': 130, 'necessary': 131, 'businesses': 132, 'these': 133, 'points': 134, 'companies': 135, 'best': 136, 'process': 137, 'time': 138, 'public': 139, 'experimentation': 140, 'both': 141, 'greatest': 142, 'persona': 143, 'teams': 144, 'lot': 145, 'helps': 146, 'actionable': 147, 'regression': 148, 'leveraging': 149, 'approach': 150, 'full': 151, 'scale': 152, 'cannot': 153, 'models': 154, 'statistics': 155, 'programming': 156, 'enough': 157, 'analyses': 158, 'would': 159, 'expertise': 160, 'such': 161, 'consumers': 162, 'feel': 163, 'cost': 164, 'access': 165, 'perform': 166, 'get': 167, 'right': 168, 'find': 169, 'looking': 170, 'mean': 171, 'create': 172, 'measure': 173, 'any': 174, 'applications': 175, 'take': 176, 'age': 177, 'consumer': 178, 'see': 179, 'gives': 180, '”': 181, 'audience': 182, 'without': 183, 'optimize': 184, 'optimization': 185, 'revenue': 186, 'lifetime': 187, 'different': 188, 'respond': 189, 'our': 190, 'toolkit': 191, 'becomes': 192, 'much': 193, 'meaning': 194, 'algorithm': 195, 'similar': 196, 'each': 197, 'possible': 198, 'than': 199, 'roi': 200, 'if': 201, 'works': 202, 'all': 203, 'real': 204, 'towards': 205, 'done': 206, 'power': 207, 'sure': 208, 'important': 209, 'example': 210, 'conversion': 211, 'rate': 212, 'test': 213, 'risk': 214, 'so': 215, 'developing': 216, 'narrative': 217, 'hiring': 218, 'startup': 219, 'may': 220, 'tools': 221, 'natural': 222, 'driving': 223, 'effectiveness': 224, 'improve': 225, 'facebook': 226, 'clients': 227, 'per': 228, 'user': 229, 'brands': 230, 'various': 231, 'journey': 232, 'creative': 233, 'domain': 234, 'well': 235, 'specifically': 236, 'looks': 237, 'predict': 238, 'future': 239, 'analyst': 240, 'statistical': 241, 'uses': 242, 'analyze': 243, 'patterns': 244, 'software': 245, 'run': 246, 'infrastructure': 247, 'simply': 248, 'toolbox': 249, 'modeling': 250, 'answer': 251, 'products': 252, 'want': 253, 'allow': 254, 'effectively': 255, 'after': 256, 'task': 257, 'idea': 258, 'could': 259, 'variety': 260, 'success': 261, 'chosen': 262, 'apply': 263, 'method': 264, 'mold': 265, 'finally': 266, 'comes': 267, 'means': 268, 'examples': 269, 'small': 270, 'fortune': 271, 'ads': 272, 'getting': 273, 'visibility': 274, 'website': 275, 'social': 276, 'media': 277, 'beyond': 278, 'simple': 279, 'basket': 280, 'certain': 281, 'else': 282, 'below': 283, 'years': 284, 'client': 285, 'base': 286, 'present': 287, 'increasing': 288, 'key': 289, 'incrementality': 290, 'acquisition': 291, 'absolutely': 292, 'competitive': 293, 'landscape': 294, 'spend': 295, 'day': 296, 'segmentation': 297, 'determine': 298, 'development': 299, 'groups': 300, 'based': 301, 'knows': 302, 'together': 303, 'only': 304, 'few': 305, 'input': 306, 'easy': 307, 'called': 308, 'really': 309, 'work': 310, 'algorithms': 311, 'mutually': 312, 'exclusive': 313, 'collectively': 314, 'exhaustive': 315, 'optimizes': 316, 'efficient': 317, 'segment': 318, 'themselves': 319, 'rather': 320, 'low': 321, 'raw': 322, 'three': 323, 'distance': 324, 'finding': 325, 'down': 326, 'retention': 327, 'referral': 328, 'several': 329, 'first': 330, 'employ': 331, 'relationships': 332, 'deeper': 333, 'come': 334, 'makes': 335, 'sense': 336, 'churn': 337, 'rates': 338, 'helping': 339, 'hire': 340, 'firm': 341, '21st': 342, 'century': 343, 'information': 344, 'words': 345, 'mining': 346, 'text': 347, 'feedback': 348, 'ad': 349, 'here': 350, 'society': 351, 'causal': 352, 'let': 353, 'clicks': 354, 'true': 355, 'up': 356, 'experiments': 357, 'always': 358, 'world': 359, 'taking': 360, 'risks': 361, 'progression': 362, 'volume': 363, 'making': 364, 'pain': 365, 'simultaneously': 366, 'around': 367, 'told': 368, 'similarly': 369, 'show': 370, 'recognize': 371, 'stage': 372, 'enterprise': 373, 'consider': 374, 'before': 375, 'essential': 376, 'implement': 377, 'already': 378, 'least': 379, 'once': 380, 'messaging': 381, 'strategies': 382, 'google’s': 383, 'efficiency': 384, 'position': 385, 'marketer’s': 386, 'practical': 387, 'channels': 388, 'assumptions': 389, 'further': 390, 'lead': 391, 'ltv': 392, 'leaving': 393, 'money': 394, 'table': 395, 'according': 396, 'sitecore': 397, 'average': 398, 'collects': 399, 'eight': 400, 'pieces': 401, 'ranging': 402, 'address': 403, 'behavioral': 404, 'collecting': 405, 'extensive': 406, 'amount': 407, 'stages': 408, 'leverage': 409, 'results': 410, 'greater': 411, 'moved': 412, 'scientific': 413, 'extend': 414, 'top': 415, 'uncover': 416, 'unprecedented': 417, 'confusion': 418, 'interchange': 419, 'terms': 420, 'analytics': 421, 'easiest': 422, 'differentiate': 423, 'two': 424, 'summarize': 425, 'predictive': 426, 'advanced': 427, 'descriptive': 428, 'ability': 429, 'platforms': 430, 'r': 431, 'python': 432, 'sas': 433, 'manage': 434, 'intersection': 435, 'medium': 436, 'derive': 437, 'mathematical': 438, 'unlock': 439, 'set': 440, 'promising': 441, 'choice': 442, 'alternatives': 443, 'eliminate': 444, 'waste': 445, 'ways': 446, 'personalized': 447, 'workflowunderstanding': 448, 'workflow': 449, 'defined': 450, 'gotten': 451, 'exploratory': 452, 'testing': 453, 'historical': 454, 'sets': 455, 'measuring': 456, 'accuracy': 457, 'benchmark': 458, 'against': 459, 'whatever': 460, 'pick': 461, 'formatted': 462, 'workable': 463, 'involve': 464, 'figuring': 465, 'deal': 466, 'missing': 467, 'values': 468, 'duplicates': 469, 'harder': 470, 'partition': 471, 'order': 472, 'train': 473, 'itself': 474, 'dataset': 475, 'same': 476, 'parameters': 477, 'fine': 478, 'tuning': 479, 'isn’t': 480, 'overfitted': 481, 'runs': 482, 'supposed': 483, 'cases': 484, 'marketinglet': 485, 'scenario': 486, 'professionals': 487, 'deeply': 488, 'familiar': 489, 'spending': 490, 'nowhere': 491, 'near': 492, 'expectations': 493, 'enter': 494, 'collected': 495, 'pages': 496, 'base’s': 497, 'demographics': 498, 'goes': 499, 'geographic': 500, 'location': 501, 'gender': 502, 'yesteryear': 503, 'known': 504, 'wherein': 505, 'behaviors’': 506, 'co': 507, 'occurrence': 508, 'details': 509, 'shop': 510, 'visual': 511, 'depiction': 512, 'grocery': 513, 'items': 514, 'male': 515, 'cosmetics': 516, 'bottled': 517, 'water': 518, 'been': 519, 'retailers': 520, 'almond': 521, 'butter': 522, 'bread': 523, 'less': 524, 'intuitive': 525, 'equally': 526, 'foodies': 527, 'home': 528, 'décor': 529, 'enthusiasts': 530, 'watch': 531, '“yoga': 532, 'adriene': 533, 'youtube': 534, 'affinities': 535, 'produced': 536, 'think': 537, 'places': 538, 'still': 539, 'exposing': 540, 'breaking': 541, 'bank': 542, 'material': 543, 'seek': 544, 'chance': 545, 'getin': 546, 'name': 547, 'game': 548, 'aware': 549, 'part': 550, 'driven': 551, 'profitable': 552, 'tying': 553, 'business’s': 554, 'performance': 555, 'indicators': 556, 'afford': 557, 'contribute': 558, 'bottom': 559, 'line': 560, 'favorite': 561, 'tool': 562, 'modern': 563, 'benefits': 564, 'segmentationhelps': 565, 'opportunitiestailor': 566, 'made': 567, 'initiativesproduct': 568, 'design': 569, 'insightspricing': 570, 'insightswe': 571, 'define': 572, 'grouping': 573, 'characteristics': 574, 'audiences': 575, 'narratives': 576, 'however': 577, 'challenging': 578, 'number': 579, 'grows': 580, 'figure': 581, 'unsupervised': 582, 'figures': 583, 'strive': 584, 'correctly': 585, 'needed': 586, 'miss': 587, 'targeted': 588, 'within': 589, 'dissimilar': 590, 'tailor': 591, 'generic': 592, 'graph': 593, 'separate': 594, 'optimized': 595, 'minimum': 596, 'maximum': 597, 'particular': 598, 'cycling': 599, 'series': 600, 'cluster': 601, 'centers': 602, 'aimachine': 603, 'reaches': 604, 'traditionally': 605, 'focused': 606, 'awareness': 607, 'activation': 608, 'gets': 609, 'forecast': 610, 'methodologies': 611, 'focusing': 612, 'sale': 613, 'longer': 614, 'previously': 615, 'curate': 616, 'suddenly': 617, 'directly': 618, 'impacting': 619, 'engaged': 620, 'now': 621, 'working': 622, 'referrals': 623, 'influencers': 624, 'qualitative': 625, 'quality': 626, 'engagement': 627, 'simpler': 628, 'seemingly': 629, 'endless': 630, 'alike': 631, 'end': 632, 'unfiltered': 633, 'unbiased': 634, 'commentary': 635, 'exposed': 636, 'survey': 637, 'feels': 638, 'invaluable': 639, 'associating': 640, 'sentiments': 641, 'sources': 642, 'overall': 643, 'themes': 644, 'commonly': 645, 'polarity': 646, 'assigned': 647, 'positive': 648, 'negative': 649, 'neutral': 650, 'outcome': 651, 'measured': 652, 'giving': 653, 'responded': 654, 'graphic': 655, 'irena': 656, 'spasic': 657, 'professor': 658, 'cardiff': 659, 'university': 660, 'outlining': 661, 'components': 662, 'required': 663, 'completely': 664, 'automated': 665, 'bridges': 666, 'gap': 667, 'speak': 668, 'live': 669, 'experimentationequally': 670, 'predicting': 671, '“why': 672, 'reverse': 673, 'hypothesize': 674, 'positively': 675, 'correlated': 676, 'partnership': 677, 'produce': 678, 'therefore': 679, 'higher': 680, 'whose': 681, 'involves': 682, 'constant': 683, 'must': 684, 'attempt': 685, 'ahead': 686, 'curve': 687, 'requires': 688, 'level': 689, 'minimized': 690, 'caught': 691, '“best': 692, 'practice': 693, 'rhetoric': 694, 'reality': 695, 'seen': 696, 'practices': 697, 'sixty': 698, 'ago': 699, 'were': 700, 'happens': 701, 'equips': 702, 'micro': 703, 'immense': 704, 'drastic': 705, 'sudden': 706, 'changes': 707, 'thereby': 708, 'mitigating': 709, 'inherently': 710, 'trying': 711, 'something': 712, 'oft': 713, 'adage': 714, 'storytellers': 715, 'derived': 716, 'numbers': 717, 'tell': 718, 'feeling': 719, 'doing': 720, 'struggling': 721, 'answering': 722, 'importance': 723, 'studies': 724, 'remember': 725, 'attached': 726, 'advertisements': 727, 'story': 728, 'hybrid—a': 729, 'master': 730, 'storytelling': 731, 'executive': 732, 'start': 733, 'ready': 734, 'someone': 735, 'considering': 736, 'asking': 737, 'i': 738, 'sourced': 739, 'early': 740, 'necessitate': 741, 'pipelines': 742, 'deciding': 743, 'whether': 744, 'maybe': 745, 'thinking': 746, 'integrate': 747, 'capitalize': 748, 'hanging': 749, 'fruit': 750, 'demographic': 751, 'somewhere': 752, 'next': 753, 'step': 754, 'prediction': 755, 'steps': 756, 'minimize': 757, 'big': 758, 'pool': 759, 'venture': 760, 'language': 761, 'processing': 762, 'leading': 763, 'incorporate': 764, 'mixnetflixat': 765, 'devoted': 766, 'measures': 767, 'employs': 768, 'responding': 769, 'notifications': 770, 'sent': 771, 'strategist': 772, 'responsible': 773, 'innovation': 774, 'roadmaps': 775, 'techniques': 776, 'decides': 777, 'ask': 778, 'stakeholders': 779, 'shape': 780, 'being': 781, 'running': 782, 'including': 783, 'facebookfacebook': 784, 'consults': 785, 'across': 786, 'impact': 787, 'client’s': 788, 'goal': 789, 'quantify': 790, 'built': 791, 'empirical': 792, 'provides': 793, 'services': 794, 'measurement': 795, 'advertising': 796, 'auction': 797, 'delivery': 798, 'everything': 799, 'programmatic': 800, 'buying': 801, 'googlethe': 802, 'develops': 803, 'implements': 804, 'quantitative': 805, 'advertiser': 806, 'publisher': 807, 'drive': 808, 'aims': 809, 'savvy': 810, 'interpret': 811, 'additionally': 812, 'processes': 813, 'scalethe': 814, 'startups': 815, 'scaleups': 816, 'optimizing': 817, 'maintain': 818, 'company’s': 819, 'created': 820, 'departments': 821, 'applies': 822, 'skillset': 823, 'combining': 824, 'literacy': 825, 'path': 826, 'resistance': 827, 'acquiring': 828, 'growing': 829, 'sustainably': 830, 'trim': 831, 'fat': 832, 'better': 833, 'channel': 834, 'optimizationby': 835, 'conversions': 836, 'choose': 837, 'bring': 838, 'automate': 839, 'developmentmarketing': 840, 'common': 841, 'approaches': 842, 'validating': 843, 'invalidating': 844, 'pivot': 845, 'solid': 846, 'prefer': 847, 'hence': 848, 'targeting': 849, 'scoringseasoned': 850, 'problem': 851, 'arises': 852, 'provide': 853, 'track': 854, 'rank': 855, 'leads': 856, 'kpi': 857, 'analysissentiment': 858, 'friend': 859, 'trait': 860, 'possess': 861, 'empathy': 862, 'collect': 863, 'empathize': 864, 'monitor': 865, 'reactions': 866, 'beliefs': 867, 'receive': 868, 'engaging': 869, 'pricing': 870, 'strategydata': 871, 'match': 872, 'given': 873, 'price': 874, 'exactly': 875, 'current': 876, 'collection': 877, 'interested': 878, 'insightsdata': 879, 'quickly': 880, 'delayed': 881, 'flights': 882, 'fit': 883, 'immediately': 884, 'customers’': 885, 'experience': 886, 'personalizing': 887}\n"
     ]
    }
   ],
   "source": [
    "tokenizer.fit_on_texts(data)\n",
    "total_words = len(tokenizer.word_index) + 1\n",
    "\n",
    "print(tokenizer.word_index)\n",
    "#print(total_words)"
   ]
  },
  {
   "cell_type": "code",
   "execution_count": 9,
   "metadata": {},
   "outputs": [
    {
     "name": "stdout",
     "output_type": "stream",
     "text": [
      "888\n"
     ]
    }
   ],
   "source": [
    "print(total_words)"
   ]
  },
  {
   "cell_type": "code",
   "execution_count": 10,
   "metadata": {},
   "outputs": [],
   "source": [
    "input_sequences = []\n",
    "for line in data:\n",
    "    #print(line)\n",
    "    token_list = tokenizer.texts_to_sequences([line])[0]\n",
    "    #print(token_list)\n",
    "    for i in range(1,len(token_list)):\n",
    "        n_gram_sequence = token_list[:i+1]\n",
    "        #print(n_gram_sequence)\n",
    "        input_sequences.append(n_gram_sequence)\n",
    "        "
   ]
  },
  {
   "cell_type": "code",
   "execution_count": 11,
   "metadata": {},
   "outputs": [],
   "source": [
    "input_sequences = []\n",
    "for line in data:\n",
    "    token_list = tokenizer.texts_to_sequences([line])[0]\n",
    "    for i in range(1, len(token_list)):\n",
    "        #print(i)\n",
    "        n_gram_sequence = token_list[:i+1]\n",
    "        #print(\"N_gram: \"+ n_gram_sequence)\n",
    "        input_sequences.append(n_gram_sequence)\n",
    "#print(input_sequences)\n",
    "# pad sequences \n",
    "max_sequence_len = max([len(x) for x in input_sequences])\n",
    "input_sequences = np.array(pad_sequences(input_sequences, maxlen=max_sequence_len, padding='pre'))\n",
    "\n",
    "# create predictors and label\n",
    "xs, labels = input_sequences[:,:-1],input_sequences[:,-1]\n",
    "\n",
    "ys = tf.keras.utils.to_categorical(labels, num_classes=total_words)"
   ]
  },
  {
   "cell_type": "code",
   "execution_count": null,
   "metadata": {},
   "outputs": [],
   "source": [
    "model = Sequential()\n",
    "model.add(Embedding(total_words, 64, input_length=max_sequence_len-1))\n",
    "model.add(Bidirectional(LSTM(20)))\n",
    "model.add(Dense(total_words, activation='softmax'))\n",
    "model.compile(loss='categorical_crossentropy', optimizer='adam', metrics=['accuracy'])\n",
    "history = model.fit(xs, ys, epochs=20, verbose=1)"
   ]
  },
  {
   "cell_type": "code",
   "execution_count": null,
   "metadata": {},
   "outputs": [],
   "source": []
  }
 ],
 "metadata": {
  "environment": {
   "name": "tf2-2-3-gpu.2-3.m59",
   "type": "gcloud",
   "uri": "gcr.io/deeplearning-platform-release/tf2-2-3-gpu.2-3:m59"
  },
  "kernelspec": {
   "display_name": "Python 3",
   "language": "python",
   "name": "python3"
  },
  "language_info": {
   "codemirror_mode": {
    "name": "ipython",
    "version": 3
   },
   "file_extension": ".py",
   "mimetype": "text/x-python",
   "name": "python",
   "nbconvert_exporter": "python",
   "pygments_lexer": "ipython3",
   "version": "3.7.8"
  }
 },
 "nbformat": 4,
 "nbformat_minor": 4
}
