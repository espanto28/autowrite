{
  "nbformat": 4,
  "nbformat_minor": 0,
  "metadata": {
    "environment": {
      "name": "tf2-2-3-gpu.2-3.m59",
      "type": "gcloud",
      "uri": "gcr.io/deeplearning-platform-release/tf2-2-3-gpu.2-3:m59"
    },
    "kernelspec": {
      "display_name": "Python 3",
      "language": "python",
      "name": "python3"
    },
    "language_info": {
      "codemirror_mode": {
        "name": "ipython",
        "version": 3
      },
      "file_extension": ".py",
      "mimetype": "text/x-python",
      "name": "python",
      "nbconvert_exporter": "python",
      "pygments_lexer": "ipython3",
      "version": "3.7.8"
    },
    "colab": {
      "name": "autowrite_bidirectional.ipynb",
      "provenance": [],
      "collapsed_sections": []
    },
    "accelerator": "GPU"
  },
  "cells": [
    {
      "cell_type": "markdown",
      "metadata": {
        "id": "OgYY3Nb6iAAc"
      },
      "source": [
        "# Bidirectional approach"
      ]
    },
    {
      "cell_type": "code",
      "metadata": {
        "id": "mJ_wISHhiAAe"
      },
      "source": [
        "#import libraries\n",
        "import tensorflow as tf\n",
        "\n",
        "from tensorflow.keras.preprocessing.sequence import pad_sequences\n",
        "from tensorflow.keras.layers import Embedding, LSTM, Dense, Bidirectional\n",
        "from tensorflow.keras.preprocessing.text import Tokenizer\n",
        "from tensorflow.keras.models import Sequential\n",
        "from tensorflow.keras.optimizers import Adam\n",
        "import numpy as np "
      ],
      "execution_count": 1,
      "outputs": []
    },
    {
      "cell_type": "code",
      "metadata": {
        "id": "PKrp4LILiAAe"
      },
      "source": [
        "path_to_file = \"8_ways_data_science_can_help.txt\" #Enter article name here"
      ],
      "execution_count": 2,
      "outputs": []
    },
    {
      "cell_type": "code",
      "metadata": {
        "id": "9NYh3gYFiAAf"
      },
      "source": [
        "tokenizer = Tokenizer()"
      ],
      "execution_count": 3,
      "outputs": []
    },
    {
      "cell_type": "code",
      "metadata": {
        "colab": {
          "base_uri": "https://localhost:8080/"
        },
        "id": "jcty61friAAf",
        "outputId": "52a2725b-4361-44b7-f7e6-45fad096522a"
      },
      "source": [
        "text = open(path_to_file,'rb').read().decode(encoding='utf-8')\n",
        "print(f'The length of the article is {len(text)}')"
      ],
      "execution_count": 4,
      "outputs": [
        {
          "output_type": "stream",
          "text": [
            "The length of the article is 6999\n"
          ],
          "name": "stdout"
        }
      ]
    },
    {
      "cell_type": "code",
      "metadata": {
        "id": "TsgOXOAQiAAf"
      },
      "source": [
        "data = text.lower().replace('\\xa0\\xa0','')"
      ],
      "execution_count": 5,
      "outputs": []
    },
    {
      "cell_type": "code",
      "metadata": {
        "id": "SBOMSvyviAAg"
      },
      "source": [
        "data = text.lower().replace('\\xa0','')\n",
        "data = data.split(\".\")\n",
        "#data"
      ],
      "execution_count": 6,
      "outputs": []
    },
    {
      "cell_type": "code",
      "metadata": {
        "id": "FFjUTyZfiAAg"
      },
      "source": [
        "tokenizer.fit_on_texts(data)\n",
        "total_words = len(tokenizer.word_index) + 1\n",
        "\n",
        "#print(tokenizer.word_index)\n",
        "#print(total_words)"
      ],
      "execution_count": 7,
      "outputs": []
    },
    {
      "cell_type": "code",
      "metadata": {
        "colab": {
          "base_uri": "https://localhost:8080/"
        },
        "id": "gGq7_5yViAAg",
        "outputId": "2fbadc84-d059-437a-ab88-348f92111641"
      },
      "source": [
        "print(total_words)"
      ],
      "execution_count": 8,
      "outputs": [
        {
          "output_type": "stream",
          "text": [
            "525\n"
          ],
          "name": "stdout"
        }
      ]
    },
    {
      "cell_type": "code",
      "metadata": {
        "id": "fl0jWcBfiAAh"
      },
      "source": [
        "input_sequences = []\n",
        "for line in data:\n",
        "    token_list = tokenizer.texts_to_sequences([line])[0]\n",
        "    for i in range(1, len(token_list)):\n",
        "        #print(i)\n",
        "        n_gram_sequence = token_list[:i+1]\n",
        "        #print(\"N_gram: \"+ n_gram_sequence)\n",
        "        input_sequences.append(n_gram_sequence)\n",
        "#print(input_sequences)\n",
        "# pad sequences \n",
        "max_sequence_len = max([len(x) for x in input_sequences])\n",
        "input_sequences = np.array(pad_sequences(input_sequences, maxlen=max_sequence_len, padding='pre'))\n",
        "\n",
        "# create predictors and label\n",
        "xs, labels = input_sequences[:,:-1],input_sequences[:,-1]\n",
        "\n",
        "ys = tf.keras.utils.to_categorical(labels, num_classes=total_words)"
      ],
      "execution_count": 9,
      "outputs": []
    },
    {
      "cell_type": "code",
      "metadata": {
        "id": "ZO8HnRu6VEzu"
      },
      "source": [
        "class myCallback(tf.keras.callbacks.Callback):\n",
        "    def on_epoch_end(self, epoch, logs={}):\n",
        "        if(logs.get('accuracy')>0.983):\n",
        "            print(\"\\nReached acceptable accuary!\")\n",
        "            self.model.stop_training = True"
      ],
      "execution_count": 10,
      "outputs": []
    },
    {
      "cell_type": "code",
      "metadata": {
        "colab": {
          "base_uri": "https://localhost:8080/"
        },
        "id": "mxcoty07iAAh",
        "outputId": "7c72f03f-1547-4586-8a79-adc5e704a74a"
      },
      "source": [
        "callback = myCallback()\n",
        "model = Sequential()\n",
        "model.add(Embedding(total_words, 128, input_length=max_sequence_len-1))\n",
        "model.add(Bidirectional(LSTM(40)))\n",
        "model.add(Dense(total_words, activation='softmax'))\n",
        "model.compile(loss='categorical_crossentropy', optimizer='adam', metrics=['accuracy'])\n",
        "history = model.fit(xs, ys, epochs=1000, verbose=1,callbacks=[callback])"
      ],
      "execution_count": 11,
      "outputs": [
        {
          "output_type": "stream",
          "text": [
            "Epoch 1/1000\n",
            "33/33 [==============================] - 9s 14ms/step - loss: 6.2484 - accuracy: 0.0235\n",
            "Epoch 2/1000\n",
            "33/33 [==============================] - 0s 11ms/step - loss: 5.8744 - accuracy: 0.0391\n",
            "Epoch 3/1000\n",
            "33/33 [==============================] - 0s 11ms/step - loss: 5.7325 - accuracy: 0.0341\n",
            "Epoch 4/1000\n",
            "33/33 [==============================] - 0s 11ms/step - loss: 5.6173 - accuracy: 0.0266\n",
            "Epoch 5/1000\n",
            "33/33 [==============================] - 0s 11ms/step - loss: 5.6569 - accuracy: 0.0433\n",
            "Epoch 6/1000\n",
            "33/33 [==============================] - 0s 11ms/step - loss: 5.5721 - accuracy: 0.0337\n",
            "Epoch 7/1000\n",
            "33/33 [==============================] - 0s 11ms/step - loss: 5.5241 - accuracy: 0.0395\n",
            "Epoch 8/1000\n",
            "33/33 [==============================] - 0s 11ms/step - loss: 5.5385 - accuracy: 0.0387\n",
            "Epoch 9/1000\n",
            "33/33 [==============================] - 0s 11ms/step - loss: 5.3532 - accuracy: 0.0455\n",
            "Epoch 10/1000\n",
            "33/33 [==============================] - 0s 11ms/step - loss: 5.2660 - accuracy: 0.0539\n",
            "Epoch 11/1000\n",
            "33/33 [==============================] - 0s 11ms/step - loss: 5.1609 - accuracy: 0.0543\n",
            "Epoch 12/1000\n",
            "33/33 [==============================] - 0s 11ms/step - loss: 5.1592 - accuracy: 0.0624\n",
            "Epoch 13/1000\n",
            "33/33 [==============================] - 0s 12ms/step - loss: 4.9320 - accuracy: 0.0972\n",
            "Epoch 14/1000\n",
            "33/33 [==============================] - 0s 11ms/step - loss: 4.9434 - accuracy: 0.0940\n",
            "Epoch 15/1000\n",
            "33/33 [==============================] - 0s 11ms/step - loss: 4.8541 - accuracy: 0.0897\n",
            "Epoch 16/1000\n",
            "33/33 [==============================] - 0s 11ms/step - loss: 4.7552 - accuracy: 0.1033\n",
            "Epoch 17/1000\n",
            "33/33 [==============================] - 0s 12ms/step - loss: 4.6971 - accuracy: 0.1040\n",
            "Epoch 18/1000\n",
            "33/33 [==============================] - 0s 11ms/step - loss: 4.5230 - accuracy: 0.1251\n",
            "Epoch 19/1000\n",
            "33/33 [==============================] - 0s 12ms/step - loss: 4.4871 - accuracy: 0.1391\n",
            "Epoch 20/1000\n",
            "33/33 [==============================] - 0s 11ms/step - loss: 4.4495 - accuracy: 0.1331\n",
            "Epoch 21/1000\n",
            "33/33 [==============================] - 0s 11ms/step - loss: 4.3898 - accuracy: 0.1465\n",
            "Epoch 22/1000\n",
            "33/33 [==============================] - 0s 11ms/step - loss: 4.2991 - accuracy: 0.1436\n",
            "Epoch 23/1000\n",
            "33/33 [==============================] - 0s 11ms/step - loss: 4.2104 - accuracy: 0.1487\n",
            "Epoch 24/1000\n",
            "33/33 [==============================] - 0s 11ms/step - loss: 4.1654 - accuracy: 0.1551\n",
            "Epoch 25/1000\n",
            "33/33 [==============================] - 0s 11ms/step - loss: 4.0287 - accuracy: 0.1947\n",
            "Epoch 26/1000\n",
            "33/33 [==============================] - 0s 11ms/step - loss: 3.9884 - accuracy: 0.1995\n",
            "Epoch 27/1000\n",
            "33/33 [==============================] - 0s 11ms/step - loss: 3.8647 - accuracy: 0.2120\n",
            "Epoch 28/1000\n",
            "33/33 [==============================] - 0s 11ms/step - loss: 3.7534 - accuracy: 0.2402\n",
            "Epoch 29/1000\n",
            "33/33 [==============================] - 0s 11ms/step - loss: 3.6926 - accuracy: 0.2473\n",
            "Epoch 30/1000\n",
            "33/33 [==============================] - 0s 11ms/step - loss: 3.6770 - accuracy: 0.2514\n",
            "Epoch 31/1000\n",
            "33/33 [==============================] - 0s 11ms/step - loss: 3.6044 - accuracy: 0.2640\n",
            "Epoch 32/1000\n",
            "33/33 [==============================] - 0s 11ms/step - loss: 3.4884 - accuracy: 0.2861\n",
            "Epoch 33/1000\n",
            "33/33 [==============================] - 0s 11ms/step - loss: 3.3696 - accuracy: 0.3216\n",
            "Epoch 34/1000\n",
            "33/33 [==============================] - 0s 11ms/step - loss: 3.4030 - accuracy: 0.3178\n",
            "Epoch 35/1000\n",
            "33/33 [==============================] - 0s 11ms/step - loss: 3.2341 - accuracy: 0.3629\n",
            "Epoch 36/1000\n",
            "33/33 [==============================] - 0s 11ms/step - loss: 3.1596 - accuracy: 0.3582\n",
            "Epoch 37/1000\n",
            "33/33 [==============================] - 0s 12ms/step - loss: 3.0893 - accuracy: 0.3903\n",
            "Epoch 38/1000\n",
            "33/33 [==============================] - 0s 11ms/step - loss: 3.0187 - accuracy: 0.4258\n",
            "Epoch 39/1000\n",
            "33/33 [==============================] - 0s 11ms/step - loss: 2.9867 - accuracy: 0.4224\n",
            "Epoch 40/1000\n",
            "33/33 [==============================] - 0s 11ms/step - loss: 2.8663 - accuracy: 0.4682\n",
            "Epoch 41/1000\n",
            "33/33 [==============================] - 0s 11ms/step - loss: 2.8135 - accuracy: 0.4675\n",
            "Epoch 42/1000\n",
            "33/33 [==============================] - 0s 12ms/step - loss: 2.7479 - accuracy: 0.5057\n",
            "Epoch 43/1000\n",
            "33/33 [==============================] - 0s 11ms/step - loss: 2.6856 - accuracy: 0.5078\n",
            "Epoch 44/1000\n",
            "33/33 [==============================] - 0s 12ms/step - loss: 2.6248 - accuracy: 0.5438\n",
            "Epoch 45/1000\n",
            "33/33 [==============================] - 0s 11ms/step - loss: 2.5614 - accuracy: 0.5553\n",
            "Epoch 46/1000\n",
            "33/33 [==============================] - 0s 12ms/step - loss: 2.4707 - accuracy: 0.5567\n",
            "Epoch 47/1000\n",
            "33/33 [==============================] - 0s 11ms/step - loss: 2.3573 - accuracy: 0.6159\n",
            "Epoch 48/1000\n",
            "33/33 [==============================] - 0s 11ms/step - loss: 2.3615 - accuracy: 0.6093\n",
            "Epoch 49/1000\n",
            "33/33 [==============================] - 0s 11ms/step - loss: 2.3011 - accuracy: 0.6170\n",
            "Epoch 50/1000\n",
            "33/33 [==============================] - 0s 12ms/step - loss: 2.1622 - accuracy: 0.6892\n",
            "Epoch 51/1000\n",
            "33/33 [==============================] - 0s 11ms/step - loss: 2.1242 - accuracy: 0.6761\n",
            "Epoch 52/1000\n",
            "33/33 [==============================] - 0s 12ms/step - loss: 2.0983 - accuracy: 0.6822\n",
            "Epoch 53/1000\n",
            "33/33 [==============================] - 0s 11ms/step - loss: 1.9926 - accuracy: 0.7204\n",
            "Epoch 54/1000\n",
            "33/33 [==============================] - 0s 11ms/step - loss: 1.9698 - accuracy: 0.7257\n",
            "Epoch 55/1000\n",
            "33/33 [==============================] - 0s 11ms/step - loss: 1.9180 - accuracy: 0.7322\n",
            "Epoch 56/1000\n",
            "33/33 [==============================] - 0s 11ms/step - loss: 1.8276 - accuracy: 0.7584\n",
            "Epoch 57/1000\n",
            "33/33 [==============================] - 0s 11ms/step - loss: 1.8186 - accuracy: 0.7557\n",
            "Epoch 58/1000\n",
            "33/33 [==============================] - 0s 12ms/step - loss: 1.7503 - accuracy: 0.7604\n",
            "Epoch 59/1000\n",
            "33/33 [==============================] - 0s 11ms/step - loss: 1.6777 - accuracy: 0.7872\n",
            "Epoch 60/1000\n",
            "33/33 [==============================] - 0s 11ms/step - loss: 1.7006 - accuracy: 0.7653\n",
            "Epoch 61/1000\n",
            "33/33 [==============================] - 0s 11ms/step - loss: 1.6529 - accuracy: 0.7782\n",
            "Epoch 62/1000\n",
            "33/33 [==============================] - 0s 11ms/step - loss: 1.5595 - accuracy: 0.8060\n",
            "Epoch 63/1000\n",
            "33/33 [==============================] - 0s 11ms/step - loss: 1.5675 - accuracy: 0.7935\n",
            "Epoch 64/1000\n",
            "33/33 [==============================] - 0s 12ms/step - loss: 1.5075 - accuracy: 0.8101\n",
            "Epoch 65/1000\n",
            "33/33 [==============================] - 0s 12ms/step - loss: 1.4957 - accuracy: 0.8237\n",
            "Epoch 66/1000\n",
            "33/33 [==============================] - 0s 12ms/step - loss: 1.4089 - accuracy: 0.8281\n",
            "Epoch 67/1000\n",
            "33/33 [==============================] - 0s 11ms/step - loss: 1.3356 - accuracy: 0.8639\n",
            "Epoch 68/1000\n",
            "33/33 [==============================] - 0s 11ms/step - loss: 1.3093 - accuracy: 0.8606\n",
            "Epoch 69/1000\n",
            "33/33 [==============================] - 0s 11ms/step - loss: 1.2487 - accuracy: 0.8569\n",
            "Epoch 70/1000\n",
            "33/33 [==============================] - 0s 11ms/step - loss: 1.2583 - accuracy: 0.8729\n",
            "Epoch 71/1000\n",
            "33/33 [==============================] - 0s 12ms/step - loss: 1.1868 - accuracy: 0.8641\n",
            "Epoch 72/1000\n",
            "33/33 [==============================] - 0s 11ms/step - loss: 1.1699 - accuracy: 0.8747\n",
            "Epoch 73/1000\n",
            "33/33 [==============================] - 0s 11ms/step - loss: 1.0605 - accuracy: 0.9081\n",
            "Epoch 74/1000\n",
            "33/33 [==============================] - 0s 11ms/step - loss: 1.0335 - accuracy: 0.9156\n",
            "Epoch 75/1000\n",
            "33/33 [==============================] - 0s 11ms/step - loss: 1.0563 - accuracy: 0.9011\n",
            "Epoch 76/1000\n",
            "33/33 [==============================] - 0s 12ms/step - loss: 0.9838 - accuracy: 0.9141\n",
            "Epoch 77/1000\n",
            "33/33 [==============================] - 0s 11ms/step - loss: 0.9924 - accuracy: 0.9120\n",
            "Epoch 78/1000\n",
            "33/33 [==============================] - 0s 12ms/step - loss: 0.9556 - accuracy: 0.9054\n",
            "Epoch 79/1000\n",
            "33/33 [==============================] - 0s 12ms/step - loss: 0.9361 - accuracy: 0.9244\n",
            "Epoch 80/1000\n",
            "33/33 [==============================] - 0s 11ms/step - loss: 0.9054 - accuracy: 0.9176\n",
            "Epoch 81/1000\n",
            "33/33 [==============================] - 0s 12ms/step - loss: 0.8633 - accuracy: 0.9271\n",
            "Epoch 82/1000\n",
            "33/33 [==============================] - 0s 12ms/step - loss: 0.8500 - accuracy: 0.9268\n",
            "Epoch 83/1000\n",
            "33/33 [==============================] - 0s 12ms/step - loss: 0.8382 - accuracy: 0.9305\n",
            "Epoch 84/1000\n",
            "33/33 [==============================] - 0s 11ms/step - loss: 0.7821 - accuracy: 0.9303\n",
            "Epoch 85/1000\n",
            "33/33 [==============================] - 0s 11ms/step - loss: 0.7319 - accuracy: 0.9535\n",
            "Epoch 86/1000\n",
            "33/33 [==============================] - 0s 11ms/step - loss: 0.7393 - accuracy: 0.9480\n",
            "Epoch 87/1000\n",
            "33/33 [==============================] - 0s 12ms/step - loss: 0.7217 - accuracy: 0.9427\n",
            "Epoch 88/1000\n",
            "33/33 [==============================] - 0s 11ms/step - loss: 0.7403 - accuracy: 0.9363\n",
            "Epoch 89/1000\n",
            "33/33 [==============================] - 0s 11ms/step - loss: 0.6880 - accuracy: 0.9506\n",
            "Epoch 90/1000\n",
            "33/33 [==============================] - 0s 11ms/step - loss: 0.6785 - accuracy: 0.9540\n",
            "Epoch 91/1000\n",
            "33/33 [==============================] - 0s 11ms/step - loss: 0.6467 - accuracy: 0.9532\n",
            "Epoch 92/1000\n",
            "33/33 [==============================] - 0s 11ms/step - loss: 0.6006 - accuracy: 0.9619\n",
            "Epoch 93/1000\n",
            "33/33 [==============================] - 0s 11ms/step - loss: 0.5908 - accuracy: 0.9671\n",
            "Epoch 94/1000\n",
            "33/33 [==============================] - 0s 11ms/step - loss: 0.6040 - accuracy: 0.9617\n",
            "Epoch 95/1000\n",
            "33/33 [==============================] - 0s 11ms/step - loss: 0.5764 - accuracy: 0.9631\n",
            "Epoch 96/1000\n",
            "33/33 [==============================] - 0s 11ms/step - loss: 0.5486 - accuracy: 0.9628\n",
            "Epoch 97/1000\n",
            "33/33 [==============================] - 0s 11ms/step - loss: 0.5564 - accuracy: 0.9605\n",
            "Epoch 98/1000\n",
            "33/33 [==============================] - 0s 12ms/step - loss: 0.5151 - accuracy: 0.9680\n",
            "Epoch 99/1000\n",
            "33/33 [==============================] - 0s 12ms/step - loss: 0.5069 - accuracy: 0.9684\n",
            "Epoch 100/1000\n",
            "33/33 [==============================] - 0s 12ms/step - loss: 0.5022 - accuracy: 0.9603\n",
            "Epoch 101/1000\n",
            "33/33 [==============================] - 0s 11ms/step - loss: 0.5012 - accuracy: 0.9675\n",
            "Epoch 102/1000\n",
            "33/33 [==============================] - 0s 11ms/step - loss: 0.4932 - accuracy: 0.9615\n",
            "Epoch 103/1000\n",
            "33/33 [==============================] - 0s 12ms/step - loss: 0.4611 - accuracy: 0.9670\n",
            "Epoch 104/1000\n",
            "33/33 [==============================] - 0s 12ms/step - loss: 0.4392 - accuracy: 0.9763\n",
            "Epoch 105/1000\n",
            "33/33 [==============================] - 0s 12ms/step - loss: 0.4330 - accuracy: 0.9764\n",
            "Epoch 106/1000\n",
            "33/33 [==============================] - 0s 11ms/step - loss: 0.4212 - accuracy: 0.9763\n",
            "Epoch 107/1000\n",
            "33/33 [==============================] - 0s 12ms/step - loss: 0.4248 - accuracy: 0.9684\n",
            "Epoch 108/1000\n",
            "33/33 [==============================] - 0s 12ms/step - loss: 0.3920 - accuracy: 0.9674\n",
            "Epoch 109/1000\n",
            "33/33 [==============================] - 0s 11ms/step - loss: 0.4067 - accuracy: 0.9708\n",
            "Epoch 110/1000\n",
            "33/33 [==============================] - 0s 12ms/step - loss: 0.3807 - accuracy: 0.9736\n",
            "Epoch 111/1000\n",
            "33/33 [==============================] - 0s 12ms/step - loss: 0.3548 - accuracy: 0.9827\n",
            "Epoch 112/1000\n",
            "33/33 [==============================] - 0s 11ms/step - loss: 0.3670 - accuracy: 0.9810\n",
            "Epoch 113/1000\n",
            "33/33 [==============================] - 0s 12ms/step - loss: 0.3593 - accuracy: 0.9739\n",
            "Epoch 114/1000\n",
            "33/33 [==============================] - 0s 11ms/step - loss: 0.3495 - accuracy: 0.9725\n",
            "Epoch 115/1000\n",
            "33/33 [==============================] - 0s 11ms/step - loss: 0.3237 - accuracy: 0.9796\n",
            "Epoch 116/1000\n",
            "33/33 [==============================] - 0s 12ms/step - loss: 0.3357 - accuracy: 0.9769\n",
            "Epoch 117/1000\n",
            "33/33 [==============================] - 0s 11ms/step - loss: 0.3145 - accuracy: 0.9853\n",
            "Epoch 118/1000\n",
            "33/33 [==============================] - 0s 11ms/step - loss: 0.3126 - accuracy: 0.9836\n",
            "Epoch 119/1000\n",
            "33/33 [==============================] - 0s 11ms/step - loss: 0.3129 - accuracy: 0.9849\n",
            "Epoch 120/1000\n",
            "33/33 [==============================] - 0s 11ms/step - loss: 0.3073 - accuracy: 0.9888\n",
            "\n",
            "Reached acceptable accuary!\n"
          ],
          "name": "stdout"
        }
      ]
    },
    {
      "cell_type": "code",
      "metadata": {
        "id": "9Ahspg7ViAAh"
      },
      "source": [
        "import matplotlib.pyplot as plt\n",
        "\n",
        "def plot_graphs(history, string):\n",
        "    plt.plot(history.history[string])\n",
        "    plt.xlabel(\"Epochs\")\n",
        "    plt.ylabel(string)\n",
        "    plt.show()"
      ],
      "execution_count": 12,
      "outputs": []
    },
    {
      "cell_type": "code",
      "metadata": {
        "colab": {
          "base_uri": "https://localhost:8080/",
          "height": 279
        },
        "id": "gzNhhy94iAAi",
        "outputId": "01167a25-635a-471c-f343-ef49f277eb1d"
      },
      "source": [
        "plot_graphs(history, 'accuracy')"
      ],
      "execution_count": 13,
      "outputs": [
        {
          "output_type": "display_data",
          "data": {
            "image/png": "[encoded data removed]",
            "text/plain": [
              "<Figure size 432x288 with 1 Axes>"
            ]
          },
          "metadata": {
            "tags": [],
            "needs_background": "light"
          }
        }
      ]
    },
    {
      "cell_type": "code",
      "metadata": {
        "colab": {
          "base_uri": "https://localhost:8080/"
        },
        "id": "mgJX0CPCiAAi",
        "outputId": "97aeb507-92a8-4c9e-fdeb-f2db132a2335"
      },
      "source": [
        "#seed_text = \"Using data science to optimize your budget\"\n",
        "#seed_text = \"rich customer experience has always been an important factor\"\n",
        "seed_text = \"This can be highly beneficial\"\n",
        "next_words = 20\n",
        "\n",
        "for _ in range(next_words):\n",
        "    token_list = tokenizer.texts_to_sequences([seed_text])[0]\n",
        "    token_list = pad_sequences([token_list],maxlen=max_sequence_len-1,padding='pre')\n",
        "    predicted = model.predict_classes(token_list,verbose=0)\n",
        "    output_word = \"\"\n",
        "    for word, index in tokenizer.word_index.items():\n",
        "        if index == predicted:\n",
        "            output_word = word\n",
        "            break\n",
        "    seed_text += \" \" + output_word\n",
        "print(seed_text)"
      ],
      "execution_count": 27,
      "outputs": [
        {
          "output_type": "stream",
          "text": [
            "/usr/local/lib/python3.6/dist-packages/tensorflow/python/keras/engine/sequential.py:450: UserWarning: `model.predict_classes()` is deprecated and will be removed after 2021-01-01. Please use instead:* `np.argmax(model.predict(x), axis=-1)`,   if your model does multi-class classification   (e.g. if it uses a `softmax` last-layer activation).* `(model.predict(x) > 0.5).astype(\"int32\")`,   if your model does binary classification   (e.g. if it uses a `sigmoid` last-layer activation).\n",
            "  warnings.warn('`model.predict_classes()` is deprecated and '\n"
          ],
          "name": "stderr"
        },
        {
          "output_type": "stream",
          "text": [
            "This can be highly beneficial as it tells the marketer exactly which channel and medium are delivering proper returns cross channel micro copy on landing\n"
          ],
          "name": "stdout"
        }
      ]
    },
    {
      "cell_type": "code",
      "metadata": {
        "id": "iDDTtGAJiAAi"
      },
      "source": [
        ""
      ],
      "execution_count": null,
      "outputs": []
    }
  ]
}